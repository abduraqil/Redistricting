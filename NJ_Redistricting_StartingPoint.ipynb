{
 "cells": [
  {
   "cell_type": "code",
   "execution_count": 1,
   "id": "58a3d493-83fb-4965-bdcb-f1054425e86e",
   "metadata": {
    "scrolled": true,
    "tags": []
   },
   "outputs": [
    {
     "name": "stdout",
     "output_type": "stream",
     "text": [
      "Requirement already satisfied: geojson in c:\\users\\aqila\\appdata\\local\\programs\\python\\python311\\lib\\site-packages (3.1.0)\n",
      "Requirement already satisfied: shapely in c:\\users\\aqila\\appdata\\local\\programs\\python\\python311\\lib\\site-packages (2.0.2)\n",
      "Requirement already satisfied: numpy>=1.14 in c:\\users\\aqila\\appdata\\local\\programs\\python\\python311\\lib\\site-packages (from shapely) (1.26.1)\n",
      "Requirement already satisfied: PyShp in c:\\users\\aqila\\appdata\\local\\programs\\python\\python311\\lib\\site-packages (2.3.1)\n",
      "Requirement already satisfied: networkx in c:\\users\\aqila\\appdata\\local\\programs\\python\\python311\\lib\\site-packages (3.2.1)\n"
     ]
    }
   ],
   "source": [
    "!pip install geojson\n",
    "!pip install shapely\n",
    "!pip install PyShp\n",
    "!pip install networkx"
   ]
  },
  {
   "cell_type": "code",
   "execution_count": 2,
   "id": "40a7f250-1f24-4f02-832b-1df2dceaa50e",
   "metadata": {},
   "outputs": [],
   "source": [
    "import geojson\n",
    "import pandas as pd\n",
    "import numpy as np\n",
    "import networkx as nx\n",
    "import time\n",
    "import csv\n",
    "import ast\n",
    "import shapefile as shp\n",
    "from shapely.geometry import Polygon,shape,MultiPolygon\n",
    "import shapely.ops\n",
    "import warnings\n",
    "warnings.simplefilter(action='ignore', category=pd.errors.PerformanceWarning)"
   ]
  },
  {
   "cell_type": "markdown",
   "id": "6c1549e7-0856-443a-aedc-df06d9caf33a",
   "metadata": {},
   "source": [
    "### Helper functions"
   ]
  },
  {
   "cell_type": "code",
   "execution_count": 3,
   "id": "ad28b0c5-f5b6-4baf-9295-07dbff55df5f",
   "metadata": {},
   "outputs": [],
   "source": [
    "def isDistrictContiguous(district_num, assignment, contiguity_list, print_isolates=False, ignore_list=[]):\n",
    "    ## input:\n",
    "    ## district_num: the district number\n",
    "    ## assignment: the assignment from precinct to district\n",
    "    ## contiguity_list: the list of neighbors for each precinct, from the csv file\n",
    "    contiguity_list.columns = ['Precinct','Neighbors']\n",
    "    district_graph = nx.Graph() #creates an empty undirected graph\n",
    "    district_nodes = assignment[assignment['District']==district_num]['GEOID20'].tolist()\n",
    "    for i in ignore_list:\n",
    "        try:\n",
    "            district_nodes.remove(i)\n",
    "        except ValueError:\n",
    "            pass\n",
    "    district_graph.add_nodes_from(district_nodes)\n",
    "    for id in district_nodes:\n",
    "        neighbors = ast.literal_eval(contiguity_list[contiguity_list['Precinct']==id]['Neighbors'].values.tolist()[0])\n",
    "        # needed to convert string to list because the csv encodes the list as a string\n",
    "        for neighbor in neighbors:\n",
    "            district_graph.add_edge(id,neighbor)\n",
    "    if(print_isolates):\n",
    "        print(list(nx.isolates(district_graph)))\n",
    "    return nx.is_connected(district_graph)"
   ]
  },
  {
   "cell_type": "code",
   "execution_count": 4,
   "id": "474da28a-35a4-4115-b19e-9439d1044e56",
   "metadata": {},
   "outputs": [],
   "source": [
    "def getDistrictPopulations(assignment,data_file, num_district):\n",
    "    population = {}\n",
    "    for i in range (1,num_district+1):\n",
    "        population[i] = data_file[data_file['GEOID20'].isin(assignment[assignment['District']==i]['GEOID20'])]['Total_2020_Total'].sum()\n",
    "    return population"
   ]
  },
  {
   "cell_type": "code",
   "execution_count": 5,
   "id": "92c27697-04a7-4169-843b-ce2d98622efe",
   "metadata": {},
   "outputs": [],
   "source": [
    "def getDistrictShape(district_id, assignment, boundaries):\n",
    "    list_precincts = assignment[assignment['District']==district_id]['GEOID20']\n",
    "    precinct_shapes = []\n",
    "    for i in list_precincts:\n",
    "        if shape(boundaries[i]).type == 'Polygon':\n",
    "            precinct_shapes.append(Polygon(shape(boundaries[i])))\n",
    "        elif shape(boundaries[i]).type == 'MultiPolygon':\n",
    "            precinct_shapes.append(MultiPolygon(shape(boundaries[i])))      \n",
    "    district_shape = shapely.ops.unary_union(precinct_shapes)\n",
    "    #print(district_shape)\n",
    "    return district_shape"
   ]
  },
  {
   "cell_type": "code",
   "execution_count": 6,
   "id": "c5e8260f-2f6a-497e-8ff6-51dd9a767180",
   "metadata": {},
   "outputs": [],
   "source": [
    "def pp_compactness(geom): # Polsby-Popper\n",
    "    p = geom.length\n",
    "    a = geom.area    \n",
    "    return (4*np.pi*a)/(p*p)\n",
    "\n",
    "def box_reock_compactness(geom): # Reock on a rectangle bounding box\n",
    "    a = geom.area \n",
    "    bb = geom.bounds # bounds gives you the minimum bounding box (rectangle)\n",
    "    bba = abs(bb[0]-bb[2])*abs(bb[1]-bb[3])\n",
    "    return a/bba"
   ]
  },
  {
   "cell_type": "markdown",
   "id": "959227a9-93f8-47fa-87ef-02037facafb9",
   "metadata": {},
   "source": [
    "# This Notebook will help you get started on NJ\n",
    "The data is in Canvas, you should upload it to your Google Drive first (if using Colab), or local filesystem (if using Jupyter)."
   ]
  },
  {
   "cell_type": "markdown",
   "id": "69143d08-629d-436a-8687-7a5d3bcb5aa3",
   "metadata": {},
   "source": [
    "### This is the current assignment of precinct to congressional districts (12 of them for NJ)\n",
    "Note that the map shown in DRA is slightly different. This is because some precincts are split in the real assignment, and some additional precinct are created to handle special situations such as prisoners and overseas citizens. You can ignore this for the class project and just use the data and functions provided."
   ]
  },
  {
   "cell_type": "code",
   "execution_count": 7,
   "id": "5c0c2b03-9b2f-46c5-b619-0709ca555c8b",
   "metadata": {},
   "outputs": [
    {
     "data": {
      "text/html": [
       "<div>\n",
       "<style scoped>\n",
       "    .dataframe tbody tr th:only-of-type {\n",
       "        vertical-align: middle;\n",
       "    }\n",
       "\n",
       "    .dataframe tbody tr th {\n",
       "        vertical-align: top;\n",
       "    }\n",
       "\n",
       "    .dataframe thead th {\n",
       "        text-align: right;\n",
       "    }\n",
       "</style>\n",
       "<table border=\"1\" class=\"dataframe\">\n",
       "  <thead>\n",
       "    <tr style=\"text-align: right;\">\n",
       "      <th></th>\n",
       "      <th>GEOID20</th>\n",
       "      <th>District</th>\n",
       "    </tr>\n",
       "  </thead>\n",
       "  <tbody>\n",
       "    <tr>\n",
       "      <th>0</th>\n",
       "      <td>34033020001</td>\n",
       "      <td>2</td>\n",
       "    </tr>\n",
       "    <tr>\n",
       "      <th>1</th>\n",
       "      <td>34033001501</td>\n",
       "      <td>2</td>\n",
       "    </tr>\n",
       "    <tr>\n",
       "      <th>2</th>\n",
       "      <td>34033042009</td>\n",
       "      <td>2</td>\n",
       "    </tr>\n",
       "    <tr>\n",
       "      <th>3</th>\n",
       "      <td>34033000703</td>\n",
       "      <td>2</td>\n",
       "    </tr>\n",
       "    <tr>\n",
       "      <th>4</th>\n",
       "      <td>34033042001</td>\n",
       "      <td>2</td>\n",
       "    </tr>\n",
       "    <tr>\n",
       "      <th>...</th>\n",
       "      <td>...</td>\n",
       "      <td>...</td>\n",
       "    </tr>\n",
       "    <tr>\n",
       "      <th>6356</th>\n",
       "      <td>34039045302</td>\n",
       "      <td>7</td>\n",
       "    </tr>\n",
       "    <tr>\n",
       "      <th>6357</th>\n",
       "      <td>34039045303</td>\n",
       "      <td>7</td>\n",
       "    </tr>\n",
       "    <tr>\n",
       "      <th>6358</th>\n",
       "      <td>34039045404</td>\n",
       "      <td>7</td>\n",
       "    </tr>\n",
       "    <tr>\n",
       "      <th>6359</th>\n",
       "      <td>34039045801</td>\n",
       "      <td>7</td>\n",
       "    </tr>\n",
       "    <tr>\n",
       "      <th>6360</th>\n",
       "      <td>34039045802</td>\n",
       "      <td>7</td>\n",
       "    </tr>\n",
       "  </tbody>\n",
       "</table>\n",
       "<p>6361 rows × 2 columns</p>\n",
       "</div>"
      ],
      "text/plain": [
       "          GEOID20  District\n",
       "0     34033020001         2\n",
       "1     34033001501         2\n",
       "2     34033042009         2\n",
       "3     34033000703         2\n",
       "4     34033042001         2\n",
       "...           ...       ...\n",
       "6356  34039045302         7\n",
       "6357  34039045303         7\n",
       "6358  34039045404         7\n",
       "6359  34039045801         7\n",
       "6360  34039045802         7\n",
       "\n",
       "[6361 rows x 2 columns]"
      ]
     },
     "execution_count": 7,
     "metadata": {},
     "output_type": "execute_result"
    }
   ],
   "source": [
    "nj_current_assignment = pd.read_csv('Map_Data/precinct-assignments-congress-nj.csv')\n",
    "nj_current_assignment"
   ]
  },
  {
   "cell_type": "markdown",
   "id": "da6bce06-2f20-4f82-959e-a95f91e25ba5",
   "metadata": {},
   "source": [
    "### This is the current demographic and voter data\n",
    "The data has a lot of attributes that lists voters of different demographics and parties in different elections. You can look at the data Dictionary on Canvas to get details. For this recitation we will only keep votes from the 2020  presidential election and the total 2020 population counts. You can use additional columns (e.g., Governor's elections results, voting age (VAP) population counts, or the composite Dem/Rep score)"
   ]
  },
  {
   "cell_type": "code",
   "execution_count": 8,
   "id": "8d13a23f-3b65-4852-a42d-3a87867f3361",
   "metadata": {},
   "outputs": [
    {
     "data": {
      "text/html": [
       "<div>\n",
       "<style scoped>\n",
       "    .dataframe tbody tr th:only-of-type {\n",
       "        vertical-align: middle;\n",
       "    }\n",
       "\n",
       "    .dataframe tbody tr th {\n",
       "        vertical-align: top;\n",
       "    }\n",
       "\n",
       "    .dataframe thead th {\n",
       "        text-align: right;\n",
       "    }\n",
       "</style>\n",
       "<table border=\"1\" class=\"dataframe\">\n",
       "  <thead>\n",
       "    <tr style=\"text-align: right;\">\n",
       "      <th></th>\n",
       "      <th>GEOID20</th>\n",
       "      <th>District</th>\n",
       "      <th>Total_2020_Pres</th>\n",
       "      <th>Dem_2020_Pres</th>\n",
       "      <th>Rep_2020_Pres</th>\n",
       "      <th>Total_2020_Total</th>\n",
       "      <th>White_2020_Total</th>\n",
       "      <th>Hispanic_2020_Total</th>\n",
       "      <th>Black_2020_Total</th>\n",
       "      <th>Asian_2020_Total</th>\n",
       "      <th>Native_2020_Total</th>\n",
       "      <th>Pacific_2020_Total</th>\n",
       "    </tr>\n",
       "  </thead>\n",
       "  <tbody>\n",
       "    <tr>\n",
       "      <th>0</th>\n",
       "      <td>34001005101</td>\n",
       "      <td>2</td>\n",
       "      <td>876</td>\n",
       "      <td>393</td>\n",
       "      <td>472</td>\n",
       "      <td>1240</td>\n",
       "      <td>946</td>\n",
       "      <td>128</td>\n",
       "      <td>102</td>\n",
       "      <td>66</td>\n",
       "      <td>24</td>\n",
       "      <td>0</td>\n",
       "    </tr>\n",
       "    <tr>\n",
       "      <th>1</th>\n",
       "      <td>34001005102</td>\n",
       "      <td>2</td>\n",
       "      <td>852</td>\n",
       "      <td>450</td>\n",
       "      <td>388</td>\n",
       "      <td>1913</td>\n",
       "      <td>1331</td>\n",
       "      <td>211</td>\n",
       "      <td>286</td>\n",
       "      <td>84</td>\n",
       "      <td>38</td>\n",
       "      <td>4</td>\n",
       "    </tr>\n",
       "    <tr>\n",
       "      <th>2</th>\n",
       "      <td>34001005103</td>\n",
       "      <td>2</td>\n",
       "      <td>1206</td>\n",
       "      <td>517</td>\n",
       "      <td>672</td>\n",
       "      <td>1760</td>\n",
       "      <td>1375</td>\n",
       "      <td>177</td>\n",
       "      <td>78</td>\n",
       "      <td>106</td>\n",
       "      <td>20</td>\n",
       "      <td>2</td>\n",
       "    </tr>\n",
       "    <tr>\n",
       "      <th>3</th>\n",
       "      <td>34001005201</td>\n",
       "      <td>2</td>\n",
       "      <td>828</td>\n",
       "      <td>348</td>\n",
       "      <td>469</td>\n",
       "      <td>1311</td>\n",
       "      <td>906</td>\n",
       "      <td>168</td>\n",
       "      <td>150</td>\n",
       "      <td>64</td>\n",
       "      <td>50</td>\n",
       "      <td>5</td>\n",
       "    </tr>\n",
       "    <tr>\n",
       "      <th>4</th>\n",
       "      <td>34001005202</td>\n",
       "      <td>2</td>\n",
       "      <td>868</td>\n",
       "      <td>579</td>\n",
       "      <td>282</td>\n",
       "      <td>1892</td>\n",
       "      <td>537</td>\n",
       "      <td>336</td>\n",
       "      <td>598</td>\n",
       "      <td>450</td>\n",
       "      <td>25</td>\n",
       "      <td>1</td>\n",
       "    </tr>\n",
       "    <tr>\n",
       "      <th>...</th>\n",
       "      <td>...</td>\n",
       "      <td>...</td>\n",
       "      <td>...</td>\n",
       "      <td>...</td>\n",
       "      <td>...</td>\n",
       "      <td>...</td>\n",
       "      <td>...</td>\n",
       "      <td>...</td>\n",
       "      <td>...</td>\n",
       "      <td>...</td>\n",
       "      <td>...</td>\n",
       "      <td>...</td>\n",
       "    </tr>\n",
       "    <tr>\n",
       "      <th>6356</th>\n",
       "      <td>34041115002</td>\n",
       "      <td>7</td>\n",
       "      <td>606</td>\n",
       "      <td>182</td>\n",
       "      <td>418</td>\n",
       "      <td>737</td>\n",
       "      <td>714</td>\n",
       "      <td>11</td>\n",
       "      <td>3</td>\n",
       "      <td>8</td>\n",
       "      <td>0</td>\n",
       "      <td>0</td>\n",
       "    </tr>\n",
       "    <tr>\n",
       "      <th>6357</th>\n",
       "      <td>34041115003</td>\n",
       "      <td>7</td>\n",
       "      <td>617</td>\n",
       "      <td>187</td>\n",
       "      <td>418</td>\n",
       "      <td>934</td>\n",
       "      <td>820</td>\n",
       "      <td>60</td>\n",
       "      <td>26</td>\n",
       "      <td>10</td>\n",
       "      <td>14</td>\n",
       "      <td>0</td>\n",
       "    </tr>\n",
       "    <tr>\n",
       "      <th>6358</th>\n",
       "      <td>34041115004</td>\n",
       "      <td>7</td>\n",
       "      <td>478</td>\n",
       "      <td>160</td>\n",
       "      <td>308</td>\n",
       "      <td>697</td>\n",
       "      <td>602</td>\n",
       "      <td>66</td>\n",
       "      <td>16</td>\n",
       "      <td>4</td>\n",
       "      <td>5</td>\n",
       "      <td>0</td>\n",
       "    </tr>\n",
       "    <tr>\n",
       "      <th>6359</th>\n",
       "      <td>34041115005</td>\n",
       "      <td>7</td>\n",
       "      <td>592</td>\n",
       "      <td>201</td>\n",
       "      <td>381</td>\n",
       "      <td>930</td>\n",
       "      <td>831</td>\n",
       "      <td>47</td>\n",
       "      <td>27</td>\n",
       "      <td>11</td>\n",
       "      <td>12</td>\n",
       "      <td>0</td>\n",
       "    </tr>\n",
       "    <tr>\n",
       "      <th>6360</th>\n",
       "      <td>34041115006</td>\n",
       "      <td>7</td>\n",
       "      <td>464</td>\n",
       "      <td>138</td>\n",
       "      <td>319</td>\n",
       "      <td>777</td>\n",
       "      <td>699</td>\n",
       "      <td>30</td>\n",
       "      <td>27</td>\n",
       "      <td>9</td>\n",
       "      <td>10</td>\n",
       "      <td>0</td>\n",
       "    </tr>\n",
       "  </tbody>\n",
       "</table>\n",
       "<p>6361 rows × 12 columns</p>\n",
       "</div>"
      ],
      "text/plain": [
       "          GEOID20  District  Total_2020_Pres  Dem_2020_Pres  Rep_2020_Pres  \\\n",
       "0     34001005101         2              876            393            472   \n",
       "1     34001005102         2              852            450            388   \n",
       "2     34001005103         2             1206            517            672   \n",
       "3     34001005201         2              828            348            469   \n",
       "4     34001005202         2              868            579            282   \n",
       "...           ...       ...              ...            ...            ...   \n",
       "6356  34041115002         7              606            182            418   \n",
       "6357  34041115003         7              617            187            418   \n",
       "6358  34041115004         7              478            160            308   \n",
       "6359  34041115005         7              592            201            381   \n",
       "6360  34041115006         7              464            138            319   \n",
       "\n",
       "      Total_2020_Total  White_2020_Total  Hispanic_2020_Total  \\\n",
       "0                 1240               946                  128   \n",
       "1                 1913              1331                  211   \n",
       "2                 1760              1375                  177   \n",
       "3                 1311               906                  168   \n",
       "4                 1892               537                  336   \n",
       "...                ...               ...                  ...   \n",
       "6356               737               714                   11   \n",
       "6357               934               820                   60   \n",
       "6358               697               602                   66   \n",
       "6359               930               831                   47   \n",
       "6360               777               699                   30   \n",
       "\n",
       "      Black_2020_Total  Asian_2020_Total  Native_2020_Total  \\\n",
       "0                  102                66                 24   \n",
       "1                  286                84                 38   \n",
       "2                   78               106                 20   \n",
       "3                  150                64                 50   \n",
       "4                  598               450                 25   \n",
       "...                ...               ...                ...   \n",
       "6356                 3                 8                  0   \n",
       "6357                26                10                 14   \n",
       "6358                16                 4                  5   \n",
       "6359                27                11                 12   \n",
       "6360                27                 9                 10   \n",
       "\n",
       "      Pacific_2020_Total  \n",
       "0                      0  \n",
       "1                      4  \n",
       "2                      2  \n",
       "3                      5  \n",
       "4                      1  \n",
       "...                  ...  \n",
       "6356                   0  \n",
       "6357                   0  \n",
       "6358                   0  \n",
       "6359                   0  \n",
       "6360                   0  \n",
       "\n",
       "[6361 rows x 12 columns]"
      ]
     },
     "execution_count": 8,
     "metadata": {},
     "output_type": "execute_result"
    }
   ],
   "source": [
    "nj_precinct_data = pd.read_csv('Map_Data/precinct-data-congress-nj.csv')\n",
    "keepcolumns = ['GEOID20','District','Total_2020_Pres','Dem_2020_Pres','Rep_2020_Pres','Total_2020_Total','White_2020_Total','Hispanic_2020_Total','Black_2020_Total','Asian_2020_Total','Native_2020_Total','Pacific_2020_Total']\n",
    "nj_precinct_data = nj_precinct_data[keepcolumns]\n",
    "nj_precinct_data"
   ]
  },
  {
   "cell_type": "markdown",
   "id": "609e75d5-6d29-4ab2-ab58-39c67f8b79f1",
   "metadata": {},
   "source": [
    "### This is the precinct boundary data (uses shapely)\n",
    "\n",
    "This is data that represents the geography of the districts. It is needed to test for contiguity, or for any districting partitioning method based on geography. The data is in Shapely format. Each district is represented as a set of points that are connected to create the district shape (in the long/lat coordinates). Shapely geometric functions can be used to compare the shapes. These can be quite inefficient to run, so I am also providing you a pre-computed index that, for each district, lists the districts that are contiguous to it. You can see the code to generate the index in Contiguity.ipynb.\n",
    "\n",
    "To manipulate the shapes, cast them into Shapely Polygons (see example below) and you can use the Polygon properties and functions: https://shapely.readthedocs.io/en/stable/reference/shapely.Polygon.html#shapely.Polygon"
   ]
  },
  {
   "cell_type": "code",
   "execution_count": 9,
   "id": "bd3dbde7-e314-4fe0-9861-969d96e13645",
   "metadata": {},
   "outputs": [],
   "source": [
    "shpfile = 'Map_Data/nj_vtd_2020_bound/nj_vtd_2020_bound.shp'\n",
    "dbffile = 'Map_Data/nj_vtd_2020_bound/nj_vtd_2020_bound.dbf'\n",
    "shxfile = 'Map_Data/nj_vtd_2020_bound/nj_vtd_2020_bound.shx'\n",
    "\n",
    "\n",
    "shpfile = shp.Reader(shp=shpfile, shx=shxfile, dbf=dbffile)\n",
    "nj_precinct_boundaries={}\n",
    "for sr in shpfile.iterShapeRecords():\n",
    "    geom = sr.shape # get geo bit\n",
    "    rec = sr.record # get db fields\n",
    "    nj_precinct_boundaries[rec[3]]=geom"
   ]
  },
  {
   "cell_type": "markdown",
   "id": "b38a473b-0936-4c0e-93cc-850329eaa553",
   "metadata": {},
   "source": [
    "### This is the precinct boundary data \n",
    "\n",
    "This use the contiguity index I have pre-computed using Contiguity.ipynb, that is stored in Contiguity_nj.csv. "
   ]
  },
  {
   "cell_type": "code",
   "execution_count": 10,
   "id": "51c9f089-caad-45b3-b795-71793bcfedb4",
   "metadata": {},
   "outputs": [],
   "source": [
    "nj_contiguity = pd.read_csv('Contiguity_nj.csv', header=None)"
   ]
  },
  {
   "cell_type": "code",
   "execution_count": 11,
   "id": "8e2c4cda-bb3c-4392-9df0-5e075c19c27a",
   "metadata": {},
   "outputs": [
    {
     "name": "stdout",
     "output_type": "stream",
     "text": [
      "District 1 True\n",
      "District 2 True\n",
      "District 3 True\n",
      "District 4 True\n",
      "District 5 True\n",
      "District 6 True\n",
      "District 7 True\n",
      "District 8 True\n",
      "District 9 True\n",
      "District 10 True\n",
      "District 11 True\n",
      "District 12 True\n"
     ]
    }
   ],
   "source": [
    "for i in range(1,13):\n",
    "    print(\"District \"+str(i)+\" \"+str(isDistrictContiguous(12, nj_current_assignment, nj_contiguity)))"
   ]
  },
  {
   "cell_type": "code",
   "execution_count": 12,
   "id": "96bad083-6853-462f-be62-38ff2f84e2ef",
   "metadata": {},
   "outputs": [
    {
     "name": "stderr",
     "output_type": "stream",
     "text": [
      "C:\\Users\\aqila\\AppData\\Local\\Temp\\ipykernel_24292\\1799164020.py:5: ShapelyDeprecationWarning: The 'type' attribute is deprecated, and will be removed in the future. You can use the 'geom_type' attribute instead.\n",
      "  if shape(boundaries[i]).type == 'Polygon':\n",
      "C:\\Users\\aqila\\AppData\\Local\\Temp\\ipykernel_24292\\1799164020.py:7: ShapelyDeprecationWarning: The 'type' attribute is deprecated, and will be removed in the future. You can use the 'geom_type' attribute instead.\n",
      "  elif shape(boundaries[i]).type == 'MultiPolygon':\n"
     ]
    },
    {
     "name": "stdout",
     "output_type": "stream",
     "text": [
      "D1 PP : 0.41768102211569347\n",
      "D1 BR : 0.45075813446417157\n",
      "D2 PP : 0.2632665176502347\n",
      "D2 BR : 0.38278056561756263\n",
      "D3 PP : 0.2280937682959879\n",
      "D3 BR : 0.38134920642809134\n",
      "D4 PP : 0.24812480573284196\n",
      "D4 BR : 0.5390173747196018\n",
      "D5 PP : 0.2410116694999733\n",
      "D5 BR : 0.36320426268176653\n",
      "D6 PP : 0.14677124653853732\n",
      "D6 BR : 0.32853496486220907\n",
      "D7 PP : 0.20246375771704353\n",
      "D7 BR : 0.44049249082841035\n",
      "D8 PP : 0.11227347882175574\n",
      "D8 BR : 0.36670629634952656\n",
      "D9 PP : 0.1683197710884751\n",
      "D9 BR : 0.29705227593212374\n",
      "D10 PP : 0.12061263370064262\n",
      "D10 BR : 0.34528827672774703\n",
      "D11 PP : 0.22236600778446886\n",
      "D11 BR : 0.5557086439792166\n",
      "D12 PP : 0.1620092442171186\n",
      "D12 BR : 0.38520439164401626\n"
     ]
    }
   ],
   "source": [
    "#Compactness of the current assignment\n",
    "for district in range(1,13):\n",
    "    print(\"D\"+str(district)+\" PP : \"+str(pp_compactness(getDistrictShape(district,nj_current_assignment,nj_precinct_boundaries))))\n",
    "    print(\"D\"+str(district)+\" BR : \"+str(box_reock_compactness(getDistrictShape(district,nj_current_assignment,nj_precinct_boundaries))))\n",
    "    "
   ]
  },
  {
   "cell_type": "code",
   "execution_count": 13,
   "id": "f43f2ef1-b4be-4c73-b87a-f6e9f6e9b3e3",
   "metadata": {},
   "outputs": [
    {
     "name": "stdout",
     "output_type": "stream",
     "text": [
      "{1: 775340, 2: 778354, 3: 778489, 4: 767834, 5: 774454, 6: 778516, 7: 785173, 8: 800074, 9: 766863, 10: 746178, 11: 769523, 12: 768196}\n"
     ]
    }
   ],
   "source": [
    "# District Population of the current assignment\n",
    "print(getDistrictPopulations(nj_current_assignment,nj_precinct_data, 12))"
   ]
  },
  {
   "cell_type": "markdown",
   "id": "4e696388-313f-4090-9035-09a7da258a19",
   "metadata": {},
   "source": [
    "# A simple geographical  redistricting strategy"
   ]
  },
  {
   "cell_type": "markdown",
   "id": "c4ced817-48c2-4b56-8a46-c274e5b9ff7a",
   "metadata": {
    "tags": []
   },
   "source": [
    "We can create a simple geopgraphical map, like we did for NH. In this case, we have 12 districts, so let's splitting the district in half North/South, and in 6th  East/West. \n",
    "New Hampshire's bounding box is (-75.559614,38.928519,-73.893979,41.357423) (https://anthonylouisdagostino.com/bounding-boxes-for-all-us-states/)\n",
    "So let's start by splitting the state approximately though the middle longitude (-74.72) : everything west of longitude -71.583934 is in odd Districts, everything east is in even Districts. We will use the precinct centroids to assign them. Then we will divide each half per latitude on the ranges  (38.92, 39.3, 39.7, 40.1, 40.5,40.9,41.35)\n",
    "Import the Map to DRA to look at it."
   ]
  },
  {
   "cell_type": "code",
   "execution_count": 14,
   "id": "da30c782-b466-47d7-bb37-78b3cad6bd34",
   "metadata": {
    "tags": []
   },
   "outputs": [
    {
     "name": "stderr",
     "output_type": "stream",
     "text": [
      "C:\\Users\\aqila\\AppData\\Local\\Temp\\ipykernel_24292\\3774939677.py:5: ShapelyDeprecationWarning: The 'type' attribute is deprecated, and will be removed in the future. You can use the 'geom_type' attribute instead.\n",
      "  if shape(nj_precinct_boundaries[row['GEOID20']]).type == 'Polygon':\n",
      "C:\\Users\\aqila\\AppData\\Local\\Temp\\ipykernel_24292\\3774939677.py:7: ShapelyDeprecationWarning: The 'type' attribute is deprecated, and will be removed in the future. You can use the 'geom_type' attribute instead.\n",
      "  elif shape(nj_precinct_boundaries[row['GEOID20']]).type == 'MultiPolygon':\n"
     ]
    }
   ],
   "source": [
    "nj_longlat_assignment = nj_current_assignment.copy()\n",
    "nj_longlat_assignment['District'] = 0\n",
    "for index, row in nj_longlat_assignment.iterrows():\n",
    "    try:\n",
    "        if shape(nj_precinct_boundaries[row['GEOID20']]).type == 'Polygon':\n",
    "            centroid = Polygon(shape(nj_precinct_boundaries[row['GEOID20']])).centroid\n",
    "        elif shape(nj_precinct_boundaries[row['GEOID20']]).type == 'MultiPolygon':\n",
    "            centroid = MultiPolygon(shape(nj_precinct_boundaries[row['GEOID20']])).centroid\n",
    "        else:\n",
    "            print(shape(nj_precinct_boundaries[row['GEOID20']]).type)\n",
    "            pass\n",
    "        if centroid.x <= -74.72:\n",
    "            if centroid.y <= 39.3:\n",
    "                nj_longlat_assignment.iloc[index,nj_longlat_assignment.columns.get_loc('District')] = 1\n",
    "            elif centroid.y <= 39.7:\n",
    "                nj_longlat_assignment.iloc[index,nj_longlat_assignment.columns.get_loc('District')] = 3\n",
    "            elif centroid.y <= 40.1:\n",
    "                nj_longlat_assignment.iloc[index,nj_longlat_assignment.columns.get_loc('District')] = 5\n",
    "            elif centroid.y <= 40.5:\n",
    "                nj_longlat_assignment.iloc[index,nj_longlat_assignment.columns.get_loc('District')] = 7\n",
    "            elif centroid.y <= 40.9:\n",
    "                nj_longlat_assignment.iloc[index,nj_longlat_assignment.columns.get_loc('District')] = 9\n",
    "            else:\n",
    "                nj_longlat_assignment.iloc[index,nj_longlat_assignment.columns.get_loc('District')] = 11\n",
    "        else:\n",
    "            if centroid.y <= 39.3:\n",
    "                nj_longlat_assignment.iloc[index,nj_longlat_assignment.columns.get_loc('District')] = 2\n",
    "            elif centroid.y <= 39.7:\n",
    "                nj_longlat_assignment.iloc[index,nj_longlat_assignment.columns.get_loc('District')] = 4\n",
    "            elif centroid.y <= 40.1:\n",
    "                nj_longlat_assignment.iloc[index,nj_longlat_assignment.columns.get_loc('District')] = 6\n",
    "            elif centroid.y <= 40.5:\n",
    "                nj_longlat_assignment.iloc[index,nj_longlat_assignment.columns.get_loc('District')] = 8\n",
    "            elif centroid.y <= 40.9:\n",
    "                nj_longlat_assignment.iloc[index,nj_longlat_assignment.columns.get_loc('District')] = 10\n",
    "            else:\n",
    "                nj_longlat_assignment.iloc[index,nj_longlat_assignment.columns.get_loc('District')] = 12\n",
    "    except KeyError: \n",
    "        pass\n",
    "#print(nh_longitude_assignment)\n",
    "nj_longlat_assignment.to_csv('Recitation maps/nj_longlat_map.csv',index=False)"
   ]
  },
  {
   "cell_type": "code",
   "execution_count": 15,
   "id": "bb00508f-3df2-487c-90ac-56a7af050c21",
   "metadata": {},
   "outputs": [
    {
     "name": "stderr",
     "output_type": "stream",
     "text": [
      "C:\\Users\\aqila\\AppData\\Local\\Temp\\ipykernel_24292\\1799164020.py:5: ShapelyDeprecationWarning: The 'type' attribute is deprecated, and will be removed in the future. You can use the 'geom_type' attribute instead.\n",
      "  if shape(boundaries[i]).type == 'Polygon':\n"
     ]
    },
    {
     "name": "stdout",
     "output_type": "stream",
     "text": [
      "D1 PP : 0.24444322502174795\n",
      "D1 BR : 0.39921574154934536\n",
      "D2 PP : 0.21732375139633123\n",
      "D2 BR : 0.3033805826444085\n"
     ]
    },
    {
     "name": "stderr",
     "output_type": "stream",
     "text": [
      "C:\\Users\\aqila\\AppData\\Local\\Temp\\ipykernel_24292\\1799164020.py:7: ShapelyDeprecationWarning: The 'type' attribute is deprecated, and will be removed in the future. You can use the 'geom_type' attribute instead.\n",
      "  elif shape(boundaries[i]).type == 'MultiPolygon':\n"
     ]
    },
    {
     "name": "stdout",
     "output_type": "stream",
     "text": [
      "D3 PP : 0.3012927570664991\n",
      "D3 BR : 0.7281613087250183\n",
      "D4 PP : 0.3019375759906228\n",
      "D4 BR : 0.6388831361756292\n",
      "D5 PP : 0.29897783517755583\n",
      "D5 BR : 0.5136294328843819\n",
      "D6 PP : 0.22596255307162377\n",
      "D6 BR : 0.5362987383285662\n",
      "D7 PP : 0.21866681223528045\n",
      "D7 BR : 0.4337413755961903\n",
      "D8 PP : 0.3513739185552307\n",
      "D8 BR : 0.82797734690796\n",
      "D9 PP : 0.37261194943216025\n",
      "D9 BR : 0.7269867982048943\n",
      "D10 PP : 0.28764401412152446\n",
      "D10 BR : 0.6900841778845721\n",
      "D11 PP : 0.34638282192061104\n",
      "D11 BR : 0.47137706735305646\n",
      "D12 PP : 0.318631303145351\n",
      "D12 BR : 0.5828294919378438\n"
     ]
    }
   ],
   "source": [
    "#Compactness of this Longlat assignment\n",
    "for district in range(1,13):\n",
    "    print(\"D\"+str(district)+\" PP : \"+str(pp_compactness(getDistrictShape(district,nj_longlat_assignment,nj_precinct_boundaries))))\n",
    "    print(\"D\"+str(district)+\" BR : \"+str(box_reock_compactness(getDistrictShape(district,nj_longlat_assignment,nj_precinct_boundaries))))\n",
    "    "
   ]
  },
  {
   "cell_type": "code",
   "execution_count": 16,
   "id": "265c674a-6122-4440-a87a-9b5b4250f242",
   "metadata": {},
   "outputs": [
    {
     "name": "stdout",
     "output_type": "stream",
     "text": [
      "{1: 80406, 2: 22492, 3: 317218, 4: 274411, 5: 1124427, 6: 563593, 7: 244052, 8: 1471840, 9: 230117, 10: 3848094, 11: 61026, 12: 1051318}\n"
     ]
    }
   ],
   "source": [
    "# District Population of this longlat assignment\n",
    "print(getDistrictPopulations(nj_longlat_assignment,nj_precinct_data, 12))\n"
   ]
  },
  {
   "cell_type": "markdown",
   "id": "1f943977-f3a0-41b8-930e-6e26d74092f2",
   "metadata": {},
   "source": [
    "# Now create your own redistricting maps\n",
    "Remember to check for contiguity, and to ensure that the population of the districts are balanced (which is not the case in the example above.)"
   ]
  },
  {
   "cell_type": "markdown",
   "id": "01353e8b",
   "metadata": {},
   "source": [
    "# Fair Map"
   ]
  },
  {
   "cell_type": "markdown",
   "id": "253e9bfc",
   "metadata": {},
   "source": [
    "## From Existing Map - Flip Step\n",
    "random based strategy similar to one in recitation_redistricting notebook"
   ]
  },
  {
   "cell_type": "code",
   "execution_count": 17,
   "id": "65fda189-958e-4639-8c9e-78d618ea055c",
   "metadata": {},
   "outputs": [],
   "source": [
    "# previous code not functionl\n",
    "#import random\n",
    "\n",
    "# nj_flip_assignment = nj_current_assignment.copy()\n",
    "\n",
    "# D1_Border_precincts = [] #NJ has 12 districts, and there should be 6361 precincts (rows)\n",
    "# D1_list = nj_flip_assignment[nj_flip_assignment['District']==1]['GEOID20'].tolist()\n",
    "\n",
    "\n",
    "# for precinct in D1_list: \n",
    "#     neighbors = nj_contiguity[nj_contiguity['GEOID20']==precinct]['Neighbor'].tolist()\n",
    "#     for neighbor in neighbors:\n",
    "#         if nj_flip_assignment[nj_flip_assignment['GEOID20']==neighbor]['District'].tolist()[0] == 2:\n",
    "#             #if one of the neighbor is in D2, then this is a border district\n",
    "#             D1_Border_precincts.append(precinct)\n",
    "#             break\n",
    "\n",
    "# # calculate percenage of total number of precincts\n",
    "# num_precincts_to_flip = int(len(D1_list) * 0.15)\n",
    "\n",
    "# for i in range(10):\n",
    "#     precinct_to_flip = np.random.choice(D1_Border_precincts)\n",
    "#     nj_flip_assignment.loc[nj_flip_assignment['GEOID20']==precinct_to_flip, 'District'] = 2\n",
    "#     if not isDistrictContiguous(nj_flip_assignment, 1) or not isDistrictContiguous(nj_flip_assignment, 2):\n",
    "#         nj_flip_assignment.loc[nj_flip_assignment['GEOID20']==precinct_to_flip, 'District'] = 1\n",
    "#         print(\"Contiguity was broken, precinct was reassigned back to D1\")\n"
   ]
  },
  {
   "cell_type": "code",
   "execution_count": 18,
   "id": "63e9a0d3",
   "metadata": {},
   "outputs": [
    {
     "name": "stdout",
     "output_type": "stream",
     "text": [
      "Not enough border precincts to flip\n",
      "Number of D2 border precincts: 0\n",
      "D2 border precincts: []\n",
      "True\n",
      "True\n"
     ]
    }
   ],
   "source": [
    "nj_flipstep_assignment = nj_current_assignment.copy()\n",
    "\n",
    "## Simplistic Approach \n",
    "## we randomly select 8 D1 precincts that border D2 and assign them to D2, (switched from 10 to 8)\n",
    "\n",
    "## went to office hours to yehuda, random is not directional, will not improve or HARM any goal, so would be a fair map i think?\n",
    "\n",
    "D1_border_precincts = []\n",
    "\n",
    "D1_list = nj_longlat_assignment[nj_longlat_assignment['District']==1]['GEOID20']\n",
    "for precinct in D1_list:\n",
    "    neighbors = ast.literal_eval(nj_contiguity[nj_contiguity['Precinct']==precinct]['Neighbors'].values.tolist()[0])\n",
    "    for neighbor in neighbors:\n",
    "        if nj_flipstep_assignment.loc[nj_flipstep_assignment['GEOID20']==neighbor,'District'].values.tolist()[0]==2:\n",
    "            #if one of the neighbor is in D2, then this is a border district\n",
    "            D1_border_precincts.append(precinct)\n",
    "            break\n",
    "\n",
    "# Sample 5  and flip them UNLESS it breaks contiguity\n",
    "if len(D1_border_precincts) >= 5:\n",
    "    flipped_precincts = np.random.choice(D1_border_precincts,5)\n",
    "else:\n",
    "    print(\"Not enough border precincts to flip\")\n",
    "    flipped_precincts = []\n",
    "\n",
    "for flip in flipped_precincts:\n",
    "    nj_flipstep_assignment.loc[nj_flipstep_assignment['GEOID20']==flip,'District']=2\n",
    "    #check if we broke contiguity and revert the flip if we did\n",
    "    if(isDistrictContiguous(1,nj_flipstep_assignment,nj_contiguity) is False or isDistrictContiguous(2,nj_flipstep_assignment,nj_contiguity) is False):\n",
    "        nj_flipstep_assignment.loc[nj_flipstep_assignment['GEOID20']==flip,'District']=1\n",
    "        print(\"Contiguity broken \" + flip)\n",
    "\n",
    "# First we randomly select 5 DIFFERENT D2 precincts that border D1 and assign them to D1\n",
    "D2_border_precincts = []\n",
    "D2_list = nj_longlat_assignment[nj_longlat_assignment['District']==2]['GEOID20']\n",
    "for precinct in D2_list:\n",
    "    neighbors = ast.literal_eval(nj_contiguity[nj_contiguity['Precinct']==precinct]['Neighbors'].values.tolist()[0])\n",
    "    for neighbor in neighbors:\n",
    "        if nj_flipstep_assignment.loc[nj_flipstep_assignment['GEOID20']==neighbor,'District'].values.tolist()[0]==1 and precinct not in flipped_precincts:\n",
    "            #if one of the neighbor is in D2, then this is a border district. We do not want to re-flip a district we just flipped\n",
    "            D2_border_precincts.append(precinct)\n",
    "            break\n",
    "\n",
    "#Sample 5 and flip them UNLESS it breaks contiguity\n",
    "if len(D2_border_precincts) >= 5:\n",
    "    flipped_precincts = np.random.choice(D2_border_precincts,5)\n",
    "else:\n",
    "    print(\"Not enough border precincts to flip\")\n",
    "    flipped_precincts = []\n",
    "\n",
    "print(\"Number of D2 border precincts:\", len(D2_border_precincts))\n",
    "print(\"D2 border precincts:\", D2_border_precincts)\n",
    "\n",
    "\n",
    "for flip in flipped_precincts:\n",
    "    nj_flipstep_assignment.loc[nj_flipstep_assignment['GEOID20']==flip,'District']=1\n",
    "    #check if we broke contiguity and revert the flip if we did\n",
    "    if(isDistrictContiguous(1,nj_flipstep_assignment,nj_contiguity) is False or isDistrictContiguous(2,nj_flipstep_assignment,nj_contiguity) is False):\n",
    "        nj_flipstep_assignment.loc[nj_flipstep_assignment['GEOID20']==flip,'District']=2\n",
    "        print(\"Contiguity broken \" + flip)\n",
    "    else:\n",
    "        populations = getDistrictPopulations(nj_flipstep_assignment,nj_precinct_data, 12)\n",
    "        pop1 = populations[1]\n",
    "        pop2 = populations[2]\n",
    "        if (abs(pop1 - pop2) / (pop1 + pop2) / 2) > 0.05:\n",
    "            nj_flipstep_assignment.loc[nj_flipstep_assignment['GEOID20']==flip,'District']=2\n",
    "            print(\"Population deviation too high \" + flip)\n",
    "\n",
    "\n",
    "print(isDistrictContiguous(1,nj_flipstep_assignment,nj_contiguity))\n",
    "print(isDistrictContiguous(2,nj_flipstep_assignment,nj_contiguity))\n",
    "\n",
    "nj_flipstep_assignment.to_csv('Recitation maps/final_fair.csv',index=False)\n",
    "    "
   ]
  },
  {
   "cell_type": "markdown",
   "id": "8475ac82",
   "metadata": {},
   "source": [
    "# Unfair Map\n",
    "map should be designed to give a party/community/area some advantage (unfair map) using some creative gerrymandering techniques. The less likely the map would be to be thrown out of courts for obvious gerrymandering, the better."
   ]
  }
 ],
 "metadata": {
  "kernelspec": {
   "display_name": "Python 3 (ipykernel)",
   "language": "python",
   "name": "python3"
  },
  "language_info": {
   "codemirror_mode": {
    "name": "ipython",
    "version": 3
   },
   "file_extension": ".py",
   "mimetype": "text/x-python",
   "name": "python",
   "nbconvert_exporter": "python",
   "pygments_lexer": "ipython3",
   "version": "3.11.2"
  }
 },
 "nbformat": 4,
 "nbformat_minor": 5
}
