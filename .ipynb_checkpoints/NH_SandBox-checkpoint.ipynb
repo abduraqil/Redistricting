{
 "cells": [
  {
   "cell_type": "code",
   "execution_count": null,
   "id": "e275f99d-ece5-4e3b-b3dc-ba16405cf7e4",
   "metadata": {},
   "outputs": [],
   "source": [
    "# sandbox to test on new hampshire"
   ]
  },
  {
   "cell_type": "markdown",
   "id": "70037875-2fa4-4613-bf20-2dc55c9f6d2c",
   "metadata": {},
   "source": [
    "# We will work on New Hampshire\n",
    "The data is in Canvas, you should upload it to your Google Drive first (if using Colab), or local filesystem (if using Jupyter).\n",
    "The NJ data is formatted the same way, just replace 'nh' with 'nj'"
   ]
  },
  {
   "cell_type": "markdown",
   "id": "c2a71108-0147-489e-ace6-d950ff13a17f",
   "metadata": {},
   "source": [
    "### This is the current assignment of precinct to congressional districts (2 of them for NH)"
   ]
  },
  {
   "cell_type": "code",
   "execution_count": null,
   "id": "e92fa5a5-6e88-46bd-af1d-1dd07f6cb87f",
   "metadata": {},
   "outputs": [],
   "source": [
    "nh_current_assignment = pd.read_csv('Map_Data/precinct-assignments-congress-nh.csv')\n",
    "nh_current_assignment"
   ]
  },
  {
   "cell_type": "markdown",
   "id": "9c363532-421d-4cb6-b899-246a1423f78e",
   "metadata": {},
   "source": [
    "### This is the current demographic and voter data\n",
    "The data has a lot of attributes that lists voters of different demographics and parties in different elections. You can look at the data Dictionary on Canvas to get details. For this recitation we will only keep votes from the 2020  presidential election and the total 2020 population counts. You can use additional columns (e.g., Governor's elections results, voting age (VAP) population counts, or the composite Dem/Rep score)"
   ]
  },
  {
   "cell_type": "code",
   "execution_count": null,
   "id": "9928e7a8-5ab9-47da-95a4-12a2009841f7",
   "metadata": {},
   "outputs": [],
   "source": [
    "nh_precinct_data = pd.read_csv('Map_Data/precinct-data-congress-nh.csv')\n",
    "keepcolumns = ['GEOID20','District','Total_2020_Pres','Dem_2020_Pres','Rep_2020_Pres','Total_2020_Total','White_2020_Total','Hispanic_2020_Total','Black_2020_Total','Asian_2020_Total','Native_2020_Total','Pacific_2020_Total']\n",
    "nh_precinct_data = nh_precinct_data[keepcolumns]\n",
    "nh_precinct_data"
   ]
  },
  {
   "cell_type": "markdown",
   "id": "2e5928c7-0037-44da-bc7a-82e15fa54756",
   "metadata": {},
   "source": [
    "### This is the precinct boundary data (uses shapely)\n",
    "\n",
    "This is data that represents the geography of the districts. It is needed to test for contiguity, or for any districting partitioning method based on geography. The data is in Shapely format. Each district is represented as a set of points that are connected to create the district shape (in the long/lat coordinates). Shapely geometric functions can be used to compare the shapes. These can be quite inefficient to run, so I am also providing you a pre-computed index that, for each district, lists the districts that are contiguous to it. You can see the code to generate the index in Contiguity.ipynb.\n",
    "\n",
    "To manipulate the shapes, cast them into Shapely Polygons (see example below) and you can use the Polygon properties and functions: https://shapely.readthedocs.io/en/stable/reference/shapely.Polygon.html#shapely.Polygon"
   ]
  },
  {
   "cell_type": "code",
   "execution_count": null,
   "id": "8c2a198f-df88-4c22-862f-525527f4519f",
   "metadata": {},
   "outputs": [],
   "source": [
    "shpfile = 'Map_Data/nh_vtd_2020_bound/nh_vtd_2020_bound.shp'\n",
    "dbffile = 'Map_Data/nh_vtd_2020_bound/nh_vtd_2020_bound.dbf'\n",
    "shxfile = 'Map_Data/nh_vtd_2020_bound/nh_vtd_2020_bound.shx'\n",
    "\n",
    "\n",
    "shpfile = shp.Reader(shp=shpfile, shx=shxfile, dbf=dbffile)\n",
    "nh_precinct_boundaries={}\n",
    "for sr in shpfile.iterShapeRecords():\n",
    "    geom = sr.shape # get geo bit\n",
    "    rec = sr.record # get db fields\n",
    "    nh_precinct_boundaries[rec[3]]=geom"
   ]
  },
  {
   "cell_type": "code",
   "execution_count": null,
   "id": "564fad43-1af7-4bd7-b557-62dd8b15c272",
   "metadata": {},
   "outputs": [],
   "source": [
    "import geojson\n",
    "import pandas as pd\n",
    "import numpy as np\n",
    "import networkx as nx\n",
    "import time\n",
    "import csv\n",
    "import ast\n",
    "import shapefile as shp\n",
    "from shapely.geometry import Polygon,shape,MultiPolygon\n",
    "import shapely.ops\n",
    "import warnings\n",
    "warnings.simplefilter(action='ignore', category=pd.errors.PerformanceWarning)"
   ]
  },
  {
   "cell_type": "code",
   "execution_count": null,
   "id": "f80b5e83-4322-4a62-af6e-899fb647007d",
   "metadata": {},
   "outputs": [],
   "source": []
  }
 ],
 "metadata": {
  "kernelspec": {
   "display_name": "Python 3 (ipykernel)",
   "language": "python",
   "name": "python3"
  },
  "language_info": {
   "codemirror_mode": {
    "name": "ipython",
    "version": 3
   },
   "file_extension": ".py",
   "mimetype": "text/x-python",
   "name": "python",
   "nbconvert_exporter": "python",
   "pygments_lexer": "ipython3",
   "version": "3.11.2"
  }
 },
 "nbformat": 4,
 "nbformat_minor": 5
}
