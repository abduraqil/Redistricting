{
 "cells": [
  {
   "cell_type": "code",
   "execution_count": 1,
   "id": "58a3d493-83fb-4965-bdcb-f1054425e86e",
   "metadata": {},
   "outputs": [
    {
     "name": "stdout",
     "output_type": "stream",
     "text": [
      "Requirement already satisfied: geojson in c:\\users\\aqila\\appdata\\local\\programs\\python\\python311\\lib\\site-packages (3.1.0)\n",
      "Requirement already satisfied: shapely in c:\\users\\aqila\\appdata\\local\\programs\\python\\python311\\lib\\site-packages (2.0.2)\n",
      "Requirement already satisfied: numpy>=1.14 in c:\\users\\aqila\\appdata\\local\\programs\\python\\python311\\lib\\site-packages (from shapely) (1.26.1)\n",
      "Requirement already satisfied: PyShp in c:\\users\\aqila\\appdata\\local\\programs\\python\\python311\\lib\\site-packages (2.3.1)\n",
      "Requirement already satisfied: networkx in c:\\users\\aqila\\appdata\\local\\programs\\python\\python311\\lib\\site-packages (3.2.1)\n"
     ]
    }
   ],
   "source": [
    "!pip install geojson\n",
    "!pip install shapely\n",
    "!pip install PyShp\n",
    "!pip install networkx"
   ]
  },
  {
   "cell_type": "code",
   "execution_count": 2,
   "id": "40a7f250-1f24-4f02-832b-1df2dceaa50e",
   "metadata": {},
   "outputs": [],
   "source": [
    "import geojson\n",
    "import pandas as pd\n",
    "import numpy as np\n",
    "import networkx as nx\n",
    "import time\n",
    "import csv\n",
    "import ast\n",
    "import shapefile as shp\n",
    "from shapely.geometry import Polygon,shape,MultiPolygon\n",
    "import shapely.ops\n",
    "import warnings\n",
    "warnings.simplefilter(action='ignore', category=pd.errors.PerformanceWarning)"
   ]
  },
  {
   "cell_type": "markdown",
   "id": "959227a9-93f8-47fa-87ef-02037facafb9",
   "metadata": {},
   "source": [
    "# We will work on New Hampshire\n",
    "The data is in Canvas, you should upload it to your Google Drive first (if using Colab), or local filesystem (if using Jupyter).\n",
    "The NJ data is formatted the same way, just replace 'nh' with 'nj'"
   ]
  },
  {
   "cell_type": "markdown",
   "id": "69143d08-629d-436a-8687-7a5d3bcb5aa3",
   "metadata": {},
   "source": [
    "### This is the current assignment of precinct to congressional districts (2 of them for NH)"
   ]
  },
  {
   "cell_type": "code",
   "execution_count": 3,
   "id": "5c0c2b03-9b2f-46c5-b619-0709ca555c8b",
   "metadata": {},
   "outputs": [
    {
     "data": {
      "text/html": [
       "<div>\n",
       "<style scoped>\n",
       "    .dataframe tbody tr th:only-of-type {\n",
       "        vertical-align: middle;\n",
       "    }\n",
       "\n",
       "    .dataframe tbody tr th {\n",
       "        vertical-align: top;\n",
       "    }\n",
       "\n",
       "    .dataframe thead th {\n",
       "        text-align: right;\n",
       "    }\n",
       "</style>\n",
       "<table border=\"1\" class=\"dataframe\">\n",
       "  <thead>\n",
       "    <tr style=\"text-align: right;\">\n",
       "      <th></th>\n",
       "      <th>GEOID20</th>\n",
       "      <th>District</th>\n",
       "    </tr>\n",
       "  </thead>\n",
       "  <tbody>\n",
       "    <tr>\n",
       "      <th>0</th>\n",
       "      <td>33007KILK01</td>\n",
       "      <td>2</td>\n",
       "    </tr>\n",
       "    <tr>\n",
       "      <th>1</th>\n",
       "      <td>33007STAR01</td>\n",
       "      <td>2</td>\n",
       "    </tr>\n",
       "    <tr>\n",
       "      <th>2</th>\n",
       "      <td>33007RAND01</td>\n",
       "      <td>2</td>\n",
       "    </tr>\n",
       "    <tr>\n",
       "      <th>3</th>\n",
       "      <td>33007BERL01</td>\n",
       "      <td>2</td>\n",
       "    </tr>\n",
       "    <tr>\n",
       "      <th>4</th>\n",
       "      <td>33007MILA01</td>\n",
       "      <td>2</td>\n",
       "    </tr>\n",
       "    <tr>\n",
       "      <th>...</th>\n",
       "      <td>...</td>\n",
       "      <td>...</td>\n",
       "    </tr>\n",
       "    <tr>\n",
       "      <th>321</th>\n",
       "      <td>33003CHAT01</td>\n",
       "      <td>1</td>\n",
       "    </tr>\n",
       "    <tr>\n",
       "      <th>322</th>\n",
       "      <td>33007BPUR01</td>\n",
       "      <td>2</td>\n",
       "    </tr>\n",
       "    <tr>\n",
       "      <th>323</th>\n",
       "      <td>33007SHEL01</td>\n",
       "      <td>2</td>\n",
       "    </tr>\n",
       "    <tr>\n",
       "      <th>324</th>\n",
       "      <td>33007BERL03</td>\n",
       "      <td>2</td>\n",
       "    </tr>\n",
       "    <tr>\n",
       "      <th>325</th>\n",
       "      <td>33007MART01</td>\n",
       "      <td>2</td>\n",
       "    </tr>\n",
       "  </tbody>\n",
       "</table>\n",
       "<p>326 rows × 2 columns</p>\n",
       "</div>"
      ],
      "text/plain": [
       "         GEOID20  District\n",
       "0    33007KILK01         2\n",
       "1    33007STAR01         2\n",
       "2    33007RAND01         2\n",
       "3    33007BERL01         2\n",
       "4    33007MILA01         2\n",
       "..           ...       ...\n",
       "321  33003CHAT01         1\n",
       "322  33007BPUR01         2\n",
       "323  33007SHEL01         2\n",
       "324  33007BERL03         2\n",
       "325  33007MART01         2\n",
       "\n",
       "[326 rows x 2 columns]"
      ]
     },
     "execution_count": 3,
     "metadata": {},
     "output_type": "execute_result"
    }
   ],
   "source": [
    "nh_current_assignment = pd.read_csv('Map_Data/precinct-assignments-congress-nh.csv')\n",
    "nh_current_assignment"
   ]
  },
  {
   "cell_type": "markdown",
   "id": "da6bce06-2f20-4f82-959e-a95f91e25ba5",
   "metadata": {},
   "source": [
    "### This is the current demographic and voter data\n",
    "The data has a lot of attributes that lists voters of different demographics and parties in different elections. You can look at the data Dictionary on Canvas to get details. For this recitation we will only keep votes from the 2020  presidential election and the total 2020 population counts. You can use additional columns (e.g., Governor's elections results, voting age (VAP) population counts, or the composite Dem/Rep score)"
   ]
  },
  {
   "cell_type": "code",
   "execution_count": 4,
   "id": "8d13a23f-3b65-4852-a42d-3a87867f3361",
   "metadata": {},
   "outputs": [
    {
     "data": {
      "text/html": [
       "<div>\n",
       "<style scoped>\n",
       "    .dataframe tbody tr th:only-of-type {\n",
       "        vertical-align: middle;\n",
       "    }\n",
       "\n",
       "    .dataframe tbody tr th {\n",
       "        vertical-align: top;\n",
       "    }\n",
       "\n",
       "    .dataframe thead th {\n",
       "        text-align: right;\n",
       "    }\n",
       "</style>\n",
       "<table border=\"1\" class=\"dataframe\">\n",
       "  <thead>\n",
       "    <tr style=\"text-align: right;\">\n",
       "      <th></th>\n",
       "      <th>GEOID20</th>\n",
       "      <th>District</th>\n",
       "      <th>Total_2020_Pres</th>\n",
       "      <th>Dem_2020_Pres</th>\n",
       "      <th>Rep_2020_Pres</th>\n",
       "      <th>Total_2020_Total</th>\n",
       "      <th>White_2020_Total</th>\n",
       "      <th>Hispanic_2020_Total</th>\n",
       "      <th>Black_2020_Total</th>\n",
       "      <th>Asian_2020_Total</th>\n",
       "      <th>Native_2020_Total</th>\n",
       "      <th>Pacific_2020_Total</th>\n",
       "    </tr>\n",
       "  </thead>\n",
       "  <tbody>\n",
       "    <tr>\n",
       "      <th>0</th>\n",
       "      <td>33003FREE01</td>\n",
       "      <td>1</td>\n",
       "      <td>1090</td>\n",
       "      <td>538</td>\n",
       "      <td>538</td>\n",
       "      <td>1689</td>\n",
       "      <td>1607</td>\n",
       "      <td>12</td>\n",
       "      <td>1</td>\n",
       "      <td>21</td>\n",
       "      <td>31</td>\n",
       "      <td>1</td>\n",
       "    </tr>\n",
       "    <tr>\n",
       "      <th>1</th>\n",
       "      <td>33003WAKE01</td>\n",
       "      <td>1</td>\n",
       "      <td>3270</td>\n",
       "      <td>1240</td>\n",
       "      <td>1986</td>\n",
       "      <td>5201</td>\n",
       "      <td>4881</td>\n",
       "      <td>65</td>\n",
       "      <td>35</td>\n",
       "      <td>50</td>\n",
       "      <td>105</td>\n",
       "      <td>7</td>\n",
       "    </tr>\n",
       "    <tr>\n",
       "      <th>2</th>\n",
       "      <td>33003EFFI01</td>\n",
       "      <td>1</td>\n",
       "      <td>926</td>\n",
       "      <td>391</td>\n",
       "      <td>526</td>\n",
       "      <td>1691</td>\n",
       "      <td>1578</td>\n",
       "      <td>28</td>\n",
       "      <td>12</td>\n",
       "      <td>16</td>\n",
       "      <td>44</td>\n",
       "      <td>0</td>\n",
       "    </tr>\n",
       "    <tr>\n",
       "      <th>3</th>\n",
       "      <td>33003BART01</td>\n",
       "      <td>1</td>\n",
       "      <td>2170</td>\n",
       "      <td>1374</td>\n",
       "      <td>773</td>\n",
       "      <td>3200</td>\n",
       "      <td>3041</td>\n",
       "      <td>38</td>\n",
       "      <td>30</td>\n",
       "      <td>25</td>\n",
       "      <td>55</td>\n",
       "      <td>3</td>\n",
       "    </tr>\n",
       "    <tr>\n",
       "      <th>4</th>\n",
       "      <td>33003TAMW01</td>\n",
       "      <td>1</td>\n",
       "      <td>1768</td>\n",
       "      <td>899</td>\n",
       "      <td>838</td>\n",
       "      <td>2812</td>\n",
       "      <td>2635</td>\n",
       "      <td>35</td>\n",
       "      <td>14</td>\n",
       "      <td>30</td>\n",
       "      <td>58</td>\n",
       "      <td>2</td>\n",
       "    </tr>\n",
       "    <tr>\n",
       "      <th>...</th>\n",
       "      <td>...</td>\n",
       "      <td>...</td>\n",
       "      <td>...</td>\n",
       "      <td>...</td>\n",
       "      <td>...</td>\n",
       "      <td>...</td>\n",
       "      <td>...</td>\n",
       "      <td>...</td>\n",
       "      <td>...</td>\n",
       "      <td>...</td>\n",
       "      <td>...</td>\n",
       "      <td>...</td>\n",
       "    </tr>\n",
       "    <tr>\n",
       "      <th>321</th>\n",
       "      <td>33007CHAN01</td>\n",
       "      <td>2</td>\n",
       "      <td>0</td>\n",
       "      <td>0</td>\n",
       "      <td>0</td>\n",
       "      <td>0</td>\n",
       "      <td>0</td>\n",
       "      <td>0</td>\n",
       "      <td>0</td>\n",
       "      <td>0</td>\n",
       "      <td>0</td>\n",
       "      <td>0</td>\n",
       "    </tr>\n",
       "    <tr>\n",
       "      <th>322</th>\n",
       "      <td>33003HALE01</td>\n",
       "      <td>1</td>\n",
       "      <td>117</td>\n",
       "      <td>31</td>\n",
       "      <td>85</td>\n",
       "      <td>132</td>\n",
       "      <td>125</td>\n",
       "      <td>1</td>\n",
       "      <td>1</td>\n",
       "      <td>1</td>\n",
       "      <td>0</td>\n",
       "      <td>0</td>\n",
       "    </tr>\n",
       "    <tr>\n",
       "      <th>323</th>\n",
       "      <td>33015ZZZZZZ</td>\n",
       "      <td>1</td>\n",
       "      <td>0</td>\n",
       "      <td>0</td>\n",
       "      <td>0</td>\n",
       "      <td>0</td>\n",
       "      <td>0</td>\n",
       "      <td>0</td>\n",
       "      <td>0</td>\n",
       "      <td>0</td>\n",
       "      <td>0</td>\n",
       "      <td>0</td>\n",
       "    </tr>\n",
       "    <tr>\n",
       "      <th>324</th>\n",
       "      <td>33007BGRT01</td>\n",
       "      <td>2</td>\n",
       "      <td>0</td>\n",
       "      <td>0</td>\n",
       "      <td>0</td>\n",
       "      <td>0</td>\n",
       "      <td>0</td>\n",
       "      <td>0</td>\n",
       "      <td>0</td>\n",
       "      <td>0</td>\n",
       "      <td>0</td>\n",
       "      <td>0</td>\n",
       "    </tr>\n",
       "    <tr>\n",
       "      <th>325</th>\n",
       "      <td>33007CUTT01</td>\n",
       "      <td>2</td>\n",
       "      <td>0</td>\n",
       "      <td>0</td>\n",
       "      <td>0</td>\n",
       "      <td>0</td>\n",
       "      <td>0</td>\n",
       "      <td>0</td>\n",
       "      <td>0</td>\n",
       "      <td>0</td>\n",
       "      <td>0</td>\n",
       "      <td>0</td>\n",
       "    </tr>\n",
       "  </tbody>\n",
       "</table>\n",
       "<p>326 rows × 12 columns</p>\n",
       "</div>"
      ],
      "text/plain": [
       "         GEOID20  District  Total_2020_Pres  Dem_2020_Pres  Rep_2020_Pres  \\\n",
       "0    33003FREE01         1             1090            538            538   \n",
       "1    33003WAKE01         1             3270           1240           1986   \n",
       "2    33003EFFI01         1              926            391            526   \n",
       "3    33003BART01         1             2170           1374            773   \n",
       "4    33003TAMW01         1             1768            899            838   \n",
       "..           ...       ...              ...            ...            ...   \n",
       "321  33007CHAN01         2                0              0              0   \n",
       "322  33003HALE01         1              117             31             85   \n",
       "323  33015ZZZZZZ         1                0              0              0   \n",
       "324  33007BGRT01         2                0              0              0   \n",
       "325  33007CUTT01         2                0              0              0   \n",
       "\n",
       "     Total_2020_Total  White_2020_Total  Hispanic_2020_Total  \\\n",
       "0                1689              1607                   12   \n",
       "1                5201              4881                   65   \n",
       "2                1691              1578                   28   \n",
       "3                3200              3041                   38   \n",
       "4                2812              2635                   35   \n",
       "..                ...               ...                  ...   \n",
       "321                 0                 0                    0   \n",
       "322               132               125                    1   \n",
       "323                 0                 0                    0   \n",
       "324                 0                 0                    0   \n",
       "325                 0                 0                    0   \n",
       "\n",
       "     Black_2020_Total  Asian_2020_Total  Native_2020_Total  Pacific_2020_Total  \n",
       "0                   1                21                 31                   1  \n",
       "1                  35                50                105                   7  \n",
       "2                  12                16                 44                   0  \n",
       "3                  30                25                 55                   3  \n",
       "4                  14                30                 58                   2  \n",
       "..                ...               ...                ...                 ...  \n",
       "321                 0                 0                  0                   0  \n",
       "322                 1                 1                  0                   0  \n",
       "323                 0                 0                  0                   0  \n",
       "324                 0                 0                  0                   0  \n",
       "325                 0                 0                  0                   0  \n",
       "\n",
       "[326 rows x 12 columns]"
      ]
     },
     "execution_count": 4,
     "metadata": {},
     "output_type": "execute_result"
    }
   ],
   "source": [
    "nh_precinct_data = pd.read_csv('Map_Data/precinct-data-congress-nh.csv')\n",
    "keepcolumns = ['GEOID20','District','Total_2020_Pres','Dem_2020_Pres','Rep_2020_Pres','Total_2020_Total','White_2020_Total','Hispanic_2020_Total','Black_2020_Total','Asian_2020_Total','Native_2020_Total','Pacific_2020_Total']\n",
    "nh_precinct_data = nh_precinct_data[keepcolumns]\n",
    "nh_precinct_data"
   ]
  },
  {
   "cell_type": "markdown",
   "id": "609e75d5-6d29-4ab2-ab58-39c67f8b79f1",
   "metadata": {},
   "source": [
    "### This is the precinct boundary data (uses shapely)\n",
    "\n",
    "This is data that represents the geography of the districts. It is needed to test for contiguity, or for any districting partitioning method based on geography. The data is in Shapely format. Each district is represented as a set of points that are connected to create the district shape (in the long/lat coordinates). Shapely geometric functions can be used to compare the shapes. These can be quite inefficient to run, so I am also providing you a pre-computed index that, for each district, lists the districts that are contiguous to it. You can see the code to generate the index in Contiguity.ipynb.\n",
    "\n",
    "To manipulate the shapes, cast them into Shapely Polygons (see example below) and you can use the Polygon properties and functions: https://shapely.readthedocs.io/en/stable/reference/shapely.Polygon.html#shapely.Polygon"
   ]
  },
  {
   "cell_type": "code",
   "execution_count": 5,
   "id": "bd3dbde7-e314-4fe0-9861-969d96e13645",
   "metadata": {},
   "outputs": [],
   "source": [
    "shpfile = 'Map_Data/nh_vtd_2020_bound/nh_vtd_2020_bound.shp'\n",
    "dbffile = 'Map_Data/nh_vtd_2020_bound/nh_vtd_2020_bound.dbf'\n",
    "shxfile = 'Map_Data/nh_vtd_2020_bound/nh_vtd_2020_bound.shx'\n",
    "\n",
    "\n",
    "shpfile = shp.Reader(shp=shpfile, shx=shxfile, dbf=dbffile)\n",
    "nh_precinct_boundaries={}\n",
    "for sr in shpfile.iterShapeRecords():\n",
    "    geom = sr.shape # get geo bit\n",
    "    rec = sr.record # get db fields\n",
    "    nh_precinct_boundaries[rec[3]]=geom"
   ]
  },
  {
   "cell_type": "markdown",
   "id": "b2ac244b-1f70-461f-b40e-9123f092fb03",
   "metadata": {},
   "source": [
    "### Example: Town of Barrington precinct"
   ]
  },
  {
   "cell_type": "code",
   "execution_count": 6,
   "id": "149fc071-31a3-4ec0-8da0-540a3ee3f504",
   "metadata": {
    "tags": []
   },
   "outputs": [
    {
     "name": "stdout",
     "output_type": "stream",
     "text": [
      "POLYGON ((-71.56460299999999 43.893172, -71.56244199999999 43.893401999999995, -71.56148499999999 43.893508, -71.560788 43.893584, -71.55932299999999 43.893729, -71.557889 43.893882, -71.556455 43.894042, -71.555066 43.894186999999995, -71.553647 43.89434, -71.552258 43.894484999999996, -71.550855 43.894636999999996, -71.54945099999999 43.89479, -71.54801599999999 43.894942, -71.546566 43.895087, -71.54511699999999 43.89524, -71.543683 43.895385, -71.542233 43.895545, -71.541356 43.895638999999996, -71.54078299999999 43.895697999999996, -71.539349 43.895843, -71.53790000000001 43.89601, -71.53645 43.896163, -71.535016 43.896316, -71.533566 43.896468, -71.53213199999999 43.896628, -71.530682 43.896766, -71.52923299999999 43.896926, -71.527783 43.897071, -71.527447 43.897117, -71.527081 43.897155, -71.52700399999999 43.897169999999996, -71.526775 43.897193, -71.525341 43.897346, -71.52389099999999 43.897484, -71.523848 43.897489, -71.523671 43.897507, -71.523162 43.897559, -71.522677 43.897608, -71.522367 43.897641, -71.52206799999999 43.897675, -71.521609 43.897726999999996, -71.521192 43.897774, -71.521096 43.897785, -71.520774 43.897819, -71.520664 43.897831, -71.519913 43.897911, -71.519289 43.897977999999995, -71.51867899999999 43.898043, -71.51797499999999 43.898119, -71.51722099999999 43.898199, -71.516695 43.898255, -71.51621 43.898303999999996, -71.51577 43.898348999999996, -71.515236 43.898404, -71.51469399999999 43.898461999999995, -71.514168 43.898517999999996, -71.514127 43.898522, -71.51365299999999 43.898573, -71.51326399999999 43.898615, -71.512879 43.898655999999995, -71.51252699999999 43.898694, -71.512146 43.898734999999995, -71.511848 43.898765999999995, -71.511467 43.898807, -71.51096799999999 43.89886, -71.51052 43.898908, -71.510114 43.898952, -71.50785499999999 43.899189, -71.507316 43.899242, -71.50661699999999 43.899311, -71.50623 43.899352, -71.503569 43.899626999999995, -71.502562 43.89973, -71.50159 43.899829, -71.501049 43.899881, -71.499996 43.899978, -71.499538 43.900037, -71.498824 43.900096999999995, -71.497478 43.900259999999996, -71.497066 43.900298, -71.496348 43.900374, -71.49495999999999 43.900549999999996, -71.493999 43.900672, -71.493861 43.90068, -71.493022 43.900779, -71.49206099999999 43.900892999999996, -71.49058099999999 43.901061, -71.489116 43.901229, -71.487651 43.901404, -71.486186 43.901571999999994, -71.484706 43.901748, -71.483256 43.901914999999995, -71.481776 43.902083, -71.480311 43.902259, -71.47993 43.902311999999995, -71.479815 43.902325999999995, -71.478572 43.902471999999996, -71.477244 43.902617, -71.475901 43.902785, -71.474543 43.902938, -71.474116 43.902991, -71.472666 43.903158999999995, -71.471232 43.903327, -71.469782 43.903501999999996, -71.46834799999999 43.90367, -71.466914 43.903831, -71.465532 43.903998, -71.465464 43.904005999999995, -71.464823 43.904081999999995, -71.464686 43.904105, -71.464426 43.90412, -71.464365 43.904143, -71.46332699999999 43.904264999999995, -71.462304 43.904378, -71.46126799999999 43.904502, -71.460078 43.904638999999996, -71.459192 43.904737999999995, -71.45772699999999 43.904914, -71.457363 43.904952, -71.457056 43.90499, -71.456248 43.905089, -71.45476699999999 43.905257, -71.453287 43.90544, -71.451807 43.905615999999995, -71.450327 43.905784, -71.448847 43.905958999999996, -71.447366 43.906135, -71.44658799999999 43.906217999999996, -71.445444 43.906348, -71.444299 43.906493, -71.442956 43.906645999999995, -71.441614 43.906805999999996, -71.440271 43.906966, -71.438898 43.907119, -71.437524 43.907287, -71.43613599999999 43.907439, -71.43476199999999 43.907615, -71.43338899999999 43.907767, -71.43201599999999 43.907934999999995, -71.430627 43.908088, -71.429254 43.908248, -71.427865 43.908415999999995, -71.426553 43.908567999999995, -71.425225 43.908736, -71.423898 43.908888999999995, -71.42257 43.909040999999995, -71.421161 43.909203, -71.4205 43.909279, -71.419916 43.909347, -71.419367 43.909414, -71.418588 43.909507, -71.418206 43.90956, -71.417473 43.909636, -71.416039 43.909804, -71.414605 43.909963999999995, -71.41411 43.910025, -71.41317099999999 43.91014, -71.41173599999999 43.910308, -71.411289 43.910363, -71.410302 43.910467999999995, -71.40928 43.91059, -71.40799799999999 43.910743, -71.407611 43.910785, -71.406731 43.91088, -71.40546499999999 43.911024999999995, -71.404183 43.911176999999995, -71.403588 43.911246, -71.403069 43.911307, -71.402337 43.911395999999996, -71.401696 43.911474999999996, -71.400671 43.91159, -71.40033799999999 43.911628, -71.398979 43.911788, -71.397621 43.911947999999995, -71.396264 43.912107999999996, -71.39541899999999 43.912198, -71.39490599999999 43.912253, -71.393532 43.912420999999995, -71.392174 43.912574, -71.390816 43.912734, -71.39041999999999 43.91278, -71.389077 43.91294, -71.38771799999999 43.9131, -71.386376 43.91326, -71.385018 43.913413, -71.383674 43.913573, -71.382316 43.913726, -71.380974 43.913878, -71.380409 43.913947, -71.379631 43.914038999999995, -71.378273 43.914198999999996, -71.377236 43.914328, -71.376212 43.914443, -71.37531 43.914556999999995, -71.375191 43.914573, -71.375068 43.914595999999996, -71.37487 43.914626, -71.374535 43.914603, -71.373558 43.914663999999995, -71.372596 43.914770999999995, -71.370857 43.914967999999995, -71.370307 43.915031, -71.370048 43.915061, -71.36988099999999 43.915079999999996, -71.36876699999999 43.915206, -71.36748399999999 43.915343, -71.366218 43.915487999999996, -71.364829 43.915648, -71.363456 43.915777999999996, -71.362083 43.915931, -71.361965 43.915938, -71.36188899999999 43.915549, -71.361792 43.915166, -71.361445 43.913789, -71.36129799999999 43.913219999999995, -71.361274 43.913129999999995, -71.361091 43.912397999999996, -71.360935 43.911777, -71.360923 43.911729, -71.360393 43.909607, -71.36037999999999 43.909554, -71.360327 43.909338, -71.36008799999999 43.908369, -71.35995 43.907809, -71.35987999999999 43.907520999999996, -71.359839 43.907353, -71.359291 43.905142999999995, -71.359273 43.905080999999996, -71.35909199999999 43.904455999999996, -71.35867 43.902712, -71.358651 43.902636, -71.358283 43.901114, -71.35807 43.900265999999995, -71.358048 43.90018, -71.357456 43.897819999999996, -71.357444 43.897773, -71.356835 43.895371, -71.356808 43.895266, -71.35621499999999 43.892927, -71.35618099999999 43.892793, -71.35608599999999 43.892416999999995, -71.356045 43.892205999999995, -71.356025 43.892097, -71.355948 43.891867999999995, -71.355598 43.890471, -71.355578 43.890389, -71.354987 43.888033, -71.354953 43.887893999999996, -71.354378 43.885605, -71.354351 43.885495, -71.35376699999999 43.883173, -71.35373899999999 43.883058, -71.35329399999999 43.881299, -71.353152 43.880722, -71.353115 43.880575, -71.352541 43.878285999999996, -71.352518 43.878197, -71.35193 43.875854, -71.351829 43.875448999999996, -71.351713 43.875054999999996, -71.35170699999999 43.875037, -71.351314 43.873473999999995, -71.35093599999999 43.871956999999995, -71.350895 43.871795999999996, -71.350267 43.869302, -71.34987 43.867737999999996, -71.349685 43.867008, -71.34893 43.864036, -71.34858899999999 43.862686, -71.347657 43.858989, -71.34754099999999 43.858528, -71.34737299999999 43.857858, -71.346718 43.855219999999996, -71.346288 43.853542999999995, -71.34616199999999 43.853018999999996, -71.34511599999999 43.848873999999995, -71.344995 43.848394, -71.344366 43.845883, -71.344284 43.845575, -71.343802 43.843663, -71.343329 43.841803999999996, -71.343229 43.841339, -71.34322 43.841308999999995, -71.34314499999999 43.841068, -71.342473 43.83838, -71.342146 43.837078999999996, -71.341979 43.836403, -71.341953 43.836301, -71.34183 43.835781, -71.341666 43.835083, -71.341666 43.835014, -71.341432 43.833974, -71.341033 43.832203, -71.34088799999999 43.831558, -71.340705 43.830932, -71.339992 43.828004, -71.339872 43.827504, -71.339852 43.827431, -71.339817 43.827326, -71.339043 43.824172999999995, -71.33888 43.823499, -71.33882299999999 43.823266, -71.337769 43.81904, -71.337612 43.81841, -71.336902 43.815554999999996, -71.336597 43.814298, -71.336563 43.814178, -71.336536 43.814071, -71.335914 43.811546, -71.335338 43.809219, -71.335047 43.808028, -71.33460099999999 43.806236, -71.334154 43.804426, -71.333289 43.800926, -71.332976 43.799596, -71.332022 43.795742, -71.331784 43.794782999999995, -71.330742 43.790555, -71.33058799999999 43.789932, -71.329712 43.786336999999996, -71.329505 43.785486, -71.328914 43.783063, -71.328833 43.78273, -71.330328 43.782607999999996, -71.333151 43.782387, -71.334831 43.782258999999996, -71.340216 43.781845, -71.34102299999999 43.781783999999995, -71.345883 43.781417, -71.346518 43.781363, -71.346775 43.781344, -71.347267 43.781304, -71.348716 43.781197, -71.35015 43.781075, -71.351585 43.780968, -71.35280999999999 43.78087, -71.35866 43.780418999999995, -71.358806 43.780407, -71.361592 43.780195, -71.36447799999999 43.779923, -71.365031 43.779879, -71.366331 43.779767, -71.37018599999999 43.779419, -71.37123799999999 43.779323999999995, -71.37162 43.779289999999996, -71.37303899999999 43.779174999999995, -71.374535 43.779075999999996, -71.375907 43.778939, -71.377312 43.778816, -71.377436 43.778805, -71.380794 43.778513, -71.381254 43.778465999999995, -71.383049 43.778313, -71.383577 43.778265, -71.386241 43.778025, -71.38735199999999 43.777938999999996, -71.388786 43.777802, -71.38975599999999 43.777719, -71.39164 43.777558, -71.392832 43.777451, -71.394331 43.777328999999995, -71.39553099999999 43.777221999999995, -71.395862 43.777194, -71.39653899999999 43.777138, -71.39669099999999 43.777122999999996, -71.397713 43.777024, -71.398921 43.776921, -71.40166599999999 43.776686, -71.40177 43.776678, -71.402022 43.776655999999996, -71.40308499999999 43.776565999999995, -71.404427 43.776436, -71.4051 43.776382999999996, -71.406863 43.776233999999995, -71.408059 43.776129, -71.408171 43.776119, -71.409249 43.776016999999996, -71.41010399999999 43.775925, -71.411277 43.775828, -71.412865 43.775681, -71.414001 43.775566999999995, -71.414378 43.775532999999996, -71.414555 43.775518999999996, -71.41467 43.775509, -71.415174 43.775468, -71.41565 43.77543, -71.415796 43.775417999999995, -71.41587 43.775411999999996, -71.416282 43.775374, -71.416955 43.775307999999995, -71.419322 43.775085, -71.421516 43.774881, -71.422479 43.774795999999995, -71.42416 43.774634999999996, -71.424368 43.774614, -71.427776 43.774300000000004, -71.433308 43.773798, -71.43359099999999 43.773772, -71.433767 43.773753, -71.433869 43.773742, -71.435693 43.773582999999995, -71.438653 43.7733, -71.439836 43.773191, -71.44458999999999 43.772759, -71.446069 43.772614, -71.45199 43.772065, -71.452311 43.772034999999995, -71.456706 43.771622, -71.458331 43.771474999999995, -71.459411 43.771364, -71.46090099999999 43.771232999999995, -71.461191 43.771195, -71.46258 43.771065, -71.46282 43.771043999999996, -71.468104 43.770554, -71.469011 43.770472999999996, -71.473704 43.770027999999996, -71.475184 43.769898, -71.480774 43.76939, -71.481274 43.76934, -71.48428 43.769104999999996, -71.485317 43.769020999999995, -71.487009 43.768889, -71.489527 43.768677, -71.49236599999999 43.768456, -71.493162 43.768392, -71.496364 43.768125, -71.498134 43.767983, -71.49921599999999 43.767883999999995, -71.500896 43.767708, -71.502239 43.767579, -71.503185 43.76751, -71.504189 43.767424, -71.504561 43.767388, -71.507869 43.767067, -71.508191 43.767036, -71.509121 43.766945, -71.509731 43.766906999999996, -71.510735 43.76681, -71.51174499999999 43.766715999999995, -71.51296599999999 43.766613, -71.514202 43.766503, -71.514372 43.766486, -71.520183 43.765946, -71.520652 43.765906, -71.521525 43.765825, -71.523022 43.765671, -71.524227 43.765564, -71.525448 43.765457999999995, -71.526669 43.765350999999995, -71.52681799999999 43.765336999999995, -71.52911 43.765136999999996, -71.532332 43.764818, -71.532369 43.765028, -71.53245799999999 43.765527999999996, -71.53395499999999 43.773969, -71.534134 43.774972999999996, -71.53519899999999 43.780984, -71.536068 43.785668, -71.536532 43.7882, -71.53658999999999 43.788512999999995, -71.53717499999999 43.791703999999996, -71.537334 43.792646999999995, -71.53764 43.794478999999995, -71.53775399999999 43.79508, -71.538021 43.796478, -71.538128 43.79647, -71.53823799999999 43.796461, -71.538403 43.796448, -71.539639 43.796355999999996, -71.54083899999999 43.796273, -71.54211099999999 43.796181, -71.542554 43.796158, -71.543652 43.796043, -71.54380499999999 43.796043, -71.543835 43.796158, -71.54427799999999 43.798415999999996, -71.545529 43.804314, -71.54678 43.810226, -71.548017 43.816123999999995, -71.548062 43.816345, -71.54844899999999 43.818171, -71.548653 43.819133, -71.549295 43.822162999999996, -71.549615 43.823671999999995, -71.54970999999999 43.824118999999996, -71.54977099999999 43.824348, -71.54981699999999 43.824684, -71.549919 43.825156, -71.55016599999999 43.826298, -71.55044199999999 43.827576, -71.550977 43.830073, -71.551485 43.832468999999996, -71.551602 43.833023, -71.55166299999999 43.833236, -71.55194399999999 43.834545999999996, -71.552058 43.835065, -71.552122 43.835381999999996, -71.552337 43.836392, -71.55255 43.837371999999995, -71.55293 43.839141, -71.554181 43.845062, -71.555386 43.8507, -71.556607 43.856369, -71.557187 43.859030999999995, -71.557828 43.862021999999996, -71.557926 43.862494999999996, -71.557977 43.862742999999995, -71.55856 43.865553999999996, -71.55953699999999 43.870070999999996, -71.560514 43.874595, -71.560549 43.874745, -71.560594 43.874931, -71.560609 43.874995999999996, -71.560621 43.875045, -71.56091599999999 43.87631, -71.561073 43.876996999999996, -71.561106 43.877148999999996, -71.561311 43.878074, -71.561437 43.878668, -71.561666 43.879726, -71.562017 43.881335, -71.562433 43.883235, -71.562483 43.883461, -71.562846 43.885127, -71.56288599999999 43.885307999999995, -71.563023 43.885934, -71.563146 43.886497, -71.563307 43.887236, -71.56376 43.889314999999996, -71.56382099999999 43.889593, -71.564146 43.891079999999995, -71.564484 43.892626, -71.56460299999999 43.893172))\n"
     ]
    }
   ],
   "source": [
    "#See for instance the precinct boundaries for the town of Barrington precinct\n",
    "print(Polygon(shape(nh_precinct_boundaries['33003SAND01'])))"
   ]
  },
  {
   "cell_type": "code",
   "execution_count": 7,
   "id": "453193c1-b51a-4f24-b7a1-5ecbfd9c9973",
   "metadata": {},
   "outputs": [
    {
     "name": "stdout",
     "output_type": "stream",
     "text": [
      "(-71.133614, 43.137947, -70.952769, 43.289685999999996)\n",
      "POINT (-71.04241335393795 43.21396854543435)\n"
     ]
    }
   ],
   "source": [
    "# We can see the coordinates of the bouding box of the district\n",
    "print(Polygon(shape(nh_precinct_boundaries['33017BARR01'])).bounds)\n",
    "# Or we can calculate the geographical centroid of the district\n",
    "print(Polygon(shape(nh_precinct_boundaries['33017BARR01'])).centroid)"
   ]
  },
  {
   "cell_type": "code",
   "execution_count": 8,
   "id": "b419e97d-3996-40e8-a93f-2722fcc710ec",
   "metadata": {},
   "outputs": [
    {
     "data": {
      "text/html": [
       "<div>\n",
       "<style scoped>\n",
       "    .dataframe tbody tr th:only-of-type {\n",
       "        vertical-align: middle;\n",
       "    }\n",
       "\n",
       "    .dataframe tbody tr th {\n",
       "        vertical-align: top;\n",
       "    }\n",
       "\n",
       "    .dataframe thead th {\n",
       "        text-align: right;\n",
       "    }\n",
       "</style>\n",
       "<table border=\"1\" class=\"dataframe\">\n",
       "  <thead>\n",
       "    <tr style=\"text-align: right;\">\n",
       "      <th></th>\n",
       "      <th>GEOID20</th>\n",
       "      <th>District</th>\n",
       "      <th>Total_2020_Pres</th>\n",
       "      <th>Dem_2020_Pres</th>\n",
       "      <th>Rep_2020_Pres</th>\n",
       "      <th>Total_2020_Total</th>\n",
       "      <th>White_2020_Total</th>\n",
       "      <th>Hispanic_2020_Total</th>\n",
       "      <th>Black_2020_Total</th>\n",
       "      <th>Asian_2020_Total</th>\n",
       "      <th>Native_2020_Total</th>\n",
       "      <th>Pacific_2020_Total</th>\n",
       "    </tr>\n",
       "  </thead>\n",
       "  <tbody>\n",
       "    <tr>\n",
       "      <th>108</th>\n",
       "      <td>33017BARR01</td>\n",
       "      <td>1</td>\n",
       "      <td>6004</td>\n",
       "      <td>3142</td>\n",
       "      <td>2733</td>\n",
       "      <td>9326</td>\n",
       "      <td>8567</td>\n",
       "      <td>175</td>\n",
       "      <td>97</td>\n",
       "      <td>194</td>\n",
       "      <td>142</td>\n",
       "      <td>12</td>\n",
       "    </tr>\n",
       "  </tbody>\n",
       "</table>\n",
       "</div>"
      ],
      "text/plain": [
       "         GEOID20  District  Total_2020_Pres  Dem_2020_Pres  Rep_2020_Pres  \\\n",
       "108  33017BARR01         1             6004           3142           2733   \n",
       "\n",
       "     Total_2020_Total  White_2020_Total  Hispanic_2020_Total  \\\n",
       "108              9326              8567                  175   \n",
       "\n",
       "     Black_2020_Total  Asian_2020_Total  Native_2020_Total  Pacific_2020_Total  \n",
       "108                97               194                142                  12  "
      ]
     },
     "execution_count": 8,
     "metadata": {},
     "output_type": "execute_result"
    }
   ],
   "source": [
    "# We can also get the data from that district from our data table\n",
    "nh_precinct_data[nh_precinct_data['GEOID20']=='33017BARR01']"
   ]
  },
  {
   "cell_type": "code",
   "execution_count": 9,
   "id": "dbf870e0-f364-4ce2-9c04-0e699f7052bc",
   "metadata": {},
   "outputs": [
    {
     "data": {
      "text/html": [
       "<div>\n",
       "<style scoped>\n",
       "    .dataframe tbody tr th:only-of-type {\n",
       "        vertical-align: middle;\n",
       "    }\n",
       "\n",
       "    .dataframe tbody tr th {\n",
       "        vertical-align: top;\n",
       "    }\n",
       "\n",
       "    .dataframe thead th {\n",
       "        text-align: right;\n",
       "    }\n",
       "</style>\n",
       "<table border=\"1\" class=\"dataframe\">\n",
       "  <thead>\n",
       "    <tr style=\"text-align: right;\">\n",
       "      <th></th>\n",
       "      <th>GEOID20</th>\n",
       "      <th>District</th>\n",
       "    </tr>\n",
       "  </thead>\n",
       "  <tbody>\n",
       "    <tr>\n",
       "      <th>50</th>\n",
       "      <td>33017BARR01</td>\n",
       "      <td>1</td>\n",
       "    </tr>\n",
       "  </tbody>\n",
       "</table>\n",
       "</div>"
      ],
      "text/plain": [
       "        GEOID20  District\n",
       "50  33017BARR01         1"
      ]
     },
     "execution_count": 9,
     "metadata": {},
     "output_type": "execute_result"
    }
   ],
   "source": [
    "# And the current assignment of the district\n",
    "nh_current_assignment[nh_current_assignment['GEOID20']=='33017BARR01']"
   ]
  },
  {
   "cell_type": "markdown",
   "id": "4e696388-313f-4090-9035-09a7da258a19",
   "metadata": {},
   "source": [
    "# Some possible redistricting strategies"
   ]
  },
  {
   "cell_type": "markdown",
   "id": "f33ba925-cd36-43d6-b2b8-76b9140c8292",
   "metadata": {},
   "source": [
    "### 1. Geographical"
   ]
  },
  {
   "cell_type": "markdown",
   "id": "c4ced817-48c2-4b56-8a46-c274e5b9ff7a",
   "metadata": {
    "tags": []
   },
   "source": [
    "Let's start by creating simple geopgraphical maps, splitting the district in half North/South, or East/West.\n",
    "New Hampshire's bounding box is (-72.557247,42.69699,-70.610621,45.305476) (https://anthonylouisdagostino.com/bounding-boxes-for-all-us-states/)\n",
    "So let's start by splitting the state though the middle: everything west of longitude -71.583934 is in District 1, everything east is in District 2. We will use the precinct centroids to assign them.\n",
    "Import the Map to DRA to look at it."
   ]
  },
  {
   "cell_type": "code",
   "execution_count": 10,
   "id": "da30c782-b466-47d7-bb37-78b3cad6bd34",
   "metadata": {
    "tags": []
   },
   "outputs": [
    {
     "name": "stderr",
     "output_type": "stream",
     "text": [
      "C:\\Users\\aqila\\AppData\\Local\\Temp\\ipykernel_25040\\3701263038.py:5: ShapelyDeprecationWarning: The 'type' attribute is deprecated, and will be removed in the future. You can use the 'geom_type' attribute instead.\n",
      "  if shape(nh_precinct_boundaries[row['GEOID20']]).type == 'Polygon':\n",
      "C:\\Users\\aqila\\AppData\\Local\\Temp\\ipykernel_25040\\3701263038.py:7: ShapelyDeprecationWarning: The 'type' attribute is deprecated, and will be removed in the future. You can use the 'geom_type' attribute instead.\n",
      "  elif shape(nh_precinct_boundaries[row['GEOID20']]).type == 'MultiPolygon':\n"
     ]
    }
   ],
   "source": [
    "nh_longitude_assignment = nh_current_assignment.copy()\n",
    "nh_longitude_assignment['District'] = 0\n",
    "for index, row in nh_longitude_assignment.iterrows():\n",
    "    try:\n",
    "        if shape(nh_precinct_boundaries[row['GEOID20']]).type == 'Polygon':\n",
    "            centroid = Polygon(shape(nh_precinct_boundaries[row['GEOID20']])).centroid\n",
    "        elif shape(nh_precinct_boundaries[row['GEOID20']]).type == 'MultiPolygon':\n",
    "            centroid = MultiPolygon(shape(nh_precinct_boundaries[row['GEOID20']])).centroid\n",
    "        else:\n",
    "            print(shape(nh_precinct_boundaries[row['GEOID20']]).type)\n",
    "            pass\n",
    "        if centroid.x <= -71.583934:\n",
    "            nh_longitude_assignment.iloc[index,nh_longitude_assignment.columns.get_loc('District')] = 1\n",
    "        else:\n",
    "            nh_longitude_assignment.iloc[index,nh_longitude_assignment.columns.get_loc('District')] = 2\n",
    "    except KeyError: \n",
    "        pass\n",
    "#print(nh_longitude_assignment)\n",
    "nh_longitude_assignment.to_csv('Recitation maps/nh_centerlongitude_map.csv',index=False)"
   ]
  },
  {
   "cell_type": "markdown",
   "id": "fc4f3c0e-8ff3-4c75-a3d3-35ab5631d45b",
   "metadata": {},
   "source": [
    "Let's now split the state though the middle horizontally: everything north of latitude 44.001233 is in District 1, everything south is in District 2. We will use the precinct centroids to assign them. \n",
    "Import the Map to DRA to look at it."
   ]
  },
  {
   "cell_type": "code",
   "execution_count": 11,
   "id": "a1ddace2-10d0-4e2f-bd9d-8e99fee4657f",
   "metadata": {},
   "outputs": [
    {
     "name": "stderr",
     "output_type": "stream",
     "text": [
      "C:\\Users\\aqila\\AppData\\Local\\Temp\\ipykernel_25040\\1633359762.py:5: ShapelyDeprecationWarning: The 'type' attribute is deprecated, and will be removed in the future. You can use the 'geom_type' attribute instead.\n",
      "  if shape(nh_precinct_boundaries[row['GEOID20']]).type == 'Polygon':\n",
      "C:\\Users\\aqila\\AppData\\Local\\Temp\\ipykernel_25040\\1633359762.py:7: ShapelyDeprecationWarning: The 'type' attribute is deprecated, and will be removed in the future. You can use the 'geom_type' attribute instead.\n",
      "  elif shape(nh_precinct_boundaries[row['GEOID20']]).type == 'MultiPolygon':\n"
     ]
    }
   ],
   "source": [
    "nh_latitude_assignment = nh_current_assignment.copy()\n",
    "nh_latitude_assignment['District'] = 0\n",
    "for index, row in nh_latitude_assignment.iterrows():\n",
    "    try:\n",
    "        if shape(nh_precinct_boundaries[row['GEOID20']]).type == 'Polygon':\n",
    "            centroid = Polygon(shape(nh_precinct_boundaries[row['GEOID20']])).centroid\n",
    "        elif shape(nh_precinct_boundaries[row['GEOID20']]).type == 'MultiPolygon':\n",
    "            centroid = MultiPolygon(shape(nh_precinct_boundaries[row['GEOID20']])).centroid\n",
    "        else:\n",
    "            print(shape(nh_precinct_boundaries[row['GEOID20']]).type)\n",
    "            pass\n",
    "        if centroid.y <= 44.001233:\n",
    "            nh_latitude_assignment.iloc[index,nh_latitude_assignment.columns.get_loc('District')] = 1\n",
    "        else:\n",
    "            nh_latitude_assignment.iloc[index,nh_latitude_assignment.columns.get_loc('District')] = 2\n",
    "    except KeyError: \n",
    "        pass\n",
    "#print(nh_longitude_assignment)\n",
    "nh_latitude_assignment.to_csv('Recitation maps/nh_centerlatitude_map.csv',index=False)"
   ]
  },
  {
   "cell_type": "markdown",
   "id": "e6c92a31-4b48-40fd-8027-a4c9e1887923",
   "metadata": {},
   "source": [
    "### Look at the statistics for the maps\n",
    "Are they good maps?\n",
    "The population are completely different. We can redraw the maps using different split longitude (resp. latitude) values. You can code a binary search that stops when the two populations are within 5% for example.\n",
    "\n",
    "(There are four district for which the shapely data is not included, unfortunately this is from the census data so we will have to fix it manually later. Two of these have no population so are easy to ignore and just assign to the neighboring district. Two:  33013CONC05 and 33017SOME03 are populated district. You can hardcode their assignment for now.)"
   ]
  },
  {
   "cell_type": "code",
   "execution_count": 12,
   "id": "956fb803-8360-4e6e-a87b-34d1d44c9538",
   "metadata": {},
   "outputs": [
    {
     "name": "stdout",
     "output_type": "stream",
     "text": [
      "D1 pop = 1309974, D2 pop = 67555\n"
     ]
    }
   ],
   "source": [
    "# To get the population of a District:\n",
    "D1_list = nh_latitude_assignment[nh_latitude_assignment['District']==1]['GEOID20']\n",
    "D2_list = nh_latitude_assignment[nh_latitude_assignment['District']==2]['GEOID20']\n",
    "popD1= nh_precinct_data[nh_precinct_data['GEOID20'].isin(D1_list)]['Total_2020_Total'].sum()\n",
    "popD2= nh_precinct_data[nh_precinct_data['GEOID20'].isin(D2_list)]['Total_2020_Total'].sum()\n",
    "print('D1 pop = '+str(popD1)+', D2 pop = '+str(popD2))"
   ]
  },
  {
   "cell_type": "markdown",
   "id": "7554f0a0-a61f-4bf3-92f9-88143f51aa70",
   "metadata": {
    "tags": []
   },
   "source": [
    "Let's write a function that gives us the population of the districts (returns a dictionary)"
   ]
  },
  {
   "cell_type": "code",
   "execution_count": 13,
   "id": "451608c7-8272-4ad0-8460-992c6161ce4f",
   "metadata": {},
   "outputs": [],
   "source": [
    "def getDistrictPopulations(assignment,data_file, num_district):\n",
    "    population = {}\n",
    "    for i in range (1,num_district+1):\n",
    "        population[i] = data_file[data_file['GEOID20'].isin(assignment[assignment['District']==i]['GEOID20'])]['Total_2020_Total'].sum()\n",
    "    return population"
   ]
  },
  {
   "cell_type": "markdown",
   "id": "3b859dca-f174-40e6-af59-8466ecf2ab37",
   "metadata": {},
   "source": [
    "Let's see the split at Latitude = 43"
   ]
  },
  {
   "cell_type": "code",
   "execution_count": 14,
   "id": "eff692b3-699a-4706-a1d8-eea75156b7b0",
   "metadata": {},
   "outputs": [
    {
     "name": "stderr",
     "output_type": "stream",
     "text": [
      "C:\\Users\\aqila\\AppData\\Local\\Temp\\ipykernel_25040\\1199444162.py:5: ShapelyDeprecationWarning: The 'type' attribute is deprecated, and will be removed in the future. You can use the 'geom_type' attribute instead.\n",
      "  if shape(nh_precinct_boundaries[row['GEOID20']]).type == 'Polygon':\n",
      "C:\\Users\\aqila\\AppData\\Local\\Temp\\ipykernel_25040\\1199444162.py:7: ShapelyDeprecationWarning: The 'type' attribute is deprecated, and will be removed in the future. You can use the 'geom_type' attribute instead.\n",
      "  elif shape(nh_precinct_boundaries[row['GEOID20']]).type == 'MultiPolygon':\n"
     ]
    },
    {
     "data": {
      "text/plain": [
       "{1: 646010, 2: 731519}"
      ]
     },
     "execution_count": 14,
     "metadata": {},
     "output_type": "execute_result"
    }
   ],
   "source": [
    "nh_latitude43_assignment = nh_current_assignment.copy()\n",
    "nh_latitude43_assignment['District'] = 0\n",
    "for index, row in nh_latitude43_assignment.iterrows():\n",
    "    try:\n",
    "        if shape(nh_precinct_boundaries[row['GEOID20']]).type == 'Polygon':\n",
    "            centroid = Polygon(shape(nh_precinct_boundaries[row['GEOID20']])).centroid\n",
    "        elif shape(nh_precinct_boundaries[row['GEOID20']]).type == 'MultiPolygon':\n",
    "            centroid = MultiPolygon(shape(nh_precinct_boundaries[row['GEOID20']])).centroid\n",
    "        else:\n",
    "            print(shape(nh_precinct_boundaries[row['GEOID20']]).type)\n",
    "            pass\n",
    "        if centroid.y <= 43:\n",
    "            nh_latitude43_assignment.iloc[index,nh_latitude43_assignment.columns.get_loc('District')] = 1\n",
    "        else:\n",
    "            nh_latitude43_assignment.iloc[index,nh_latitude_assignment.columns.get_loc('District')] = 2\n",
    "    except KeyError: \n",
    "        pass\n",
    "nh_latitude43_assignment.to_csv('Recitation maps/nh_latitude43_map.csv',index=False)\n",
    "getDistrictPopulations(nh_latitude43_assignment,nh_precinct_data,2)"
   ]
  },
  {
   "cell_type": "markdown",
   "id": "40742510-75f1-4d29-acc9-ddb080db31d0",
   "metadata": {},
   "source": [
    "Import the map to DRA. "
   ]
  },
  {
   "cell_type": "markdown",
   "id": "e7545e8a-b73c-4263-bac2-b5f09d7603ff",
   "metadata": {
    "tags": []
   },
   "source": [
    "### 2. Graph-based"
   ]
  },
  {
   "cell_type": "markdown",
   "id": "f769ce22-4a65-4f41-971a-c1be277cc913",
   "metadata": {
    "tags": []
   },
   "source": [
    "We can see the map as a graph, each precinct is a vertex, with edges drawn between neighboring precincts. We will use the NetworkX graph library. This will allow us to check for connectivity (contiguity) of the districts.\n",
    "\n",
    "First, we create a district graph. For this, we use the contiguity index I have pre-computed using Contiguity.ipynb, that is stored in Contiguity_nh.csv"
   ]
  },
  {
   "cell_type": "code",
   "execution_count": 15,
   "id": "620c7ed1-b569-4876-aa65-a2b707f150cd",
   "metadata": {},
   "outputs": [
    {
     "name": "stdout",
     "output_type": "stream",
     "text": [
      "True\n"
     ]
    }
   ],
   "source": [
    "nh_contiguity = pd.read_csv('Contiguity_nh.csv', header=None)\n",
    "nh_contiguity.columns = ['Precinct','Neighbors']\n",
    "admin_water_precincts =['33017SOME03','33015ZZZZZZ']\n",
    "#Two precinct are administrative, have no population, and while they should be included in the assignment, they cannot be used for contiguity\n",
    "\n",
    "# Let's graph the district from the nh_latitude43_assignment map\n",
    "district1_graph = nx.Graph() #creates an empty undirected graph\n",
    "district1_nodes = nh_latitude43_assignment[nh_latitude43_assignment['District']==1]['GEOID20']\n",
    "district1_graph.add_nodes_from(district1_nodes)\n",
    "for id in district1_nodes:\n",
    "    neighbors = ast.literal_eval(nh_contiguity[nh_contiguity['Precinct']==id]['Neighbors'].values.tolist()[0])\n",
    "    # needed to convert string to list because the csv encodes the list as a string\n",
    "    for neighbor in neighbors:\n",
    "        district1_graph.add_edge(id,neighbor)\n",
    "\n",
    "print(nx.is_connected(district1_graph))\n"
   ]
  },
  {
   "cell_type": "markdown",
   "id": "dd178842-367b-4b03-a50e-7382ee38e0ce",
   "metadata": {},
   "source": [
    "Now let's add a disconnected precinct to the district"
   ]
  },
  {
   "cell_type": "code",
   "execution_count": 16,
   "id": "0e571009-b5ec-49b4-9c07-dd0bddfe4192",
   "metadata": {},
   "outputs": [
    {
     "name": "stdout",
     "output_type": "stream",
     "text": [
      "False\n"
     ]
    }
   ],
   "source": [
    "district1_graph.add_node(\"33007JEFF01\")\n",
    "neighbors = nh_contiguity[nh_contiguity['Precinct']==\"33007JEFF01\"]['Neighbors'].values.tolist()[0].replace('[','').replace(']','').replace(' ','').split(',')\n",
    "for neighbor in neighbors:\n",
    "        district1_graph.add_edge(id,neighbor)\n",
    "print(nx.is_connected(district1_graph))\n"
   ]
  },
  {
   "cell_type": "markdown",
   "id": "11ddbf15-a9a6-4947-a26d-090b95fccf93",
   "metadata": {},
   "source": [
    "So we can use the nx.is_connected function to check for contiguity. Here is a general function."
   ]
  },
  {
   "cell_type": "code",
   "execution_count": 17,
   "id": "73fd6156-7605-472b-b3c6-f0c5f4979fbc",
   "metadata": {},
   "outputs": [],
   "source": [
    "def isDistrictContiguous(district_num, assignment, contiguity_list, ignore_list=[]):\n",
    "    ## input:\n",
    "    ## district_num: the district number\n",
    "    ## assignment: the assignment from precinct to district\n",
    "    ## contiguity_list: the list of neighbors for each precinct, from the csv file\n",
    "    contiguity_list.columns = ['Precinct','Neighbors']\n",
    "    district_graph = nx.Graph() #creates an empty undirected graph\n",
    "    district_nodes = assignment[assignment['District']==district_num]['GEOID20'].tolist()\n",
    "    for i in ignore_list:\n",
    "        try:\n",
    "            district_nodes.remove(i)\n",
    "        except ValueError:\n",
    "            pass\n",
    "    district_graph.add_nodes_from(district_nodes)\n",
    "    for id in district_nodes:\n",
    "        neighbors = ast.literal_eval(contiguity_list[contiguity_list['Precinct']==id]['Neighbors'].values.tolist()[0])\n",
    "        # needed to convert string to list because the csv encodes the list as a string\n",
    "        for neighbor in neighbors:\n",
    "            district_graph.add_edge(id,neighbor)\n",
    "    return nx.is_connected(district_graph)"
   ]
  },
  {
   "cell_type": "code",
   "execution_count": 18,
   "id": "57a9106a-81ec-44a6-895a-3a574f723ee6",
   "metadata": {},
   "outputs": [
    {
     "data": {
      "text/plain": [
       "True"
      ]
     },
     "execution_count": 18,
     "metadata": {},
     "output_type": "execute_result"
    }
   ],
   "source": [
    "isDistrictContiguous(2,nh_latitude43_assignment,nh_contiguity,admin_water_precincts)"
   ]
  },
  {
   "cell_type": "markdown",
   "id": "86799775-e0de-40fb-8d99-31545e8307a9",
   "metadata": {},
   "source": [
    "#### Flood Fill Algorithm\n",
    "Here we will use a simple flood fill algorithm which will assign half of the precinct to D2 based on a BFS traversal.\n",
    "It does not consider population, but does check that both districts stay contiguous\n"
   ]
  },
  {
   "cell_type": "code",
   "execution_count": 19,
   "id": "95c90b98-0aa6-4ae5-84d0-8eabd5463c8c",
   "metadata": {},
   "outputs": [
    {
     "name": "stdout",
     "output_type": "stream",
     "text": [
      "True\n",
      "True\n"
     ]
    }
   ],
   "source": [
    "nh_floodfill_assignment = nh_current_assignment.copy()\n",
    "nh_floodfill_assignment['District'] = 2 # Let's assign everything to D2, and build D1 via flood-fill.\n",
    "\n",
    "d1_size = 0\n",
    "\n",
    "next_precincts = [\"33005HINS01\"] #this is the district on the bottom left of the map. You can start anywhere else.\n",
    "visited = []\n",
    "\n",
    "while d1_size<163: #(there are 326 precincts total. We want to assign half to D1)\n",
    "    nh_floodfill_assignment.loc[nh_floodfill_assignment['GEOID20']==next_precincts[0],'District']=1\n",
    "    neighbors = ast.literal_eval(nh_contiguity[nh_contiguity['Precinct']==next_precincts[0]]['Neighbors'].values.tolist()[0])\n",
    "    for neighbor in neighbors:\n",
    "        #print(nh_floodfill_assignment[nh_floodfill_assignment['GEOID20']==neighbor]['District'].values[0])\n",
    "        #if nh_floodfill_assignment[nh_floodfill_assignment['GEOID20']==neighbor]['District'].values[0]!=1: #only add precinct we haven't visited\n",
    "        if neighbor not in visited and neighbor not in next_precincts : #only add if not visited and not already in list\n",
    "            next_precincts.append(neighbor)\n",
    "    d1_size += 1\n",
    "    visited.append(next_precincts[0])\n",
    "    next_precincts.pop(0)\n",
    "    \n",
    "    \n",
    "\n",
    "print(isDistrictContiguous(1,nh_floodfill_assignment,nh_contiguity))\n",
    "print(isDistrictContiguous(2,nh_floodfill_assignment,nh_contiguity))\n",
    "# Note: in some cases flood fill breaks contiguity, it may be a good idea to check for contiguity during flood fill.\n",
    "\n",
    "nh_floodfill_assignment.to_csv('Recitation maps/nh_floodfill_map.csv',index=False)\n"
   ]
  },
  {
   "cell_type": "markdown",
   "id": "2cecf288-4593-4072-b584-7ace5735b598",
   "metadata": {},
   "source": [
    "Import the map in DRA. It is based on balancing the number of precints, so the population counts are off. You can adapt the code to take population count into account. You can also start from another district.\n",
    "\n",
    "Note that the algorithm can break contiguity (by splitting another district), so this should be checked during the traversal. In addition, it has to be applied carefully when you have more than 2 districts."
   ]
  },
  {
   "cell_type": "markdown",
   "id": "d731fc9f-70de-4a63-aed2-c40a70ff439d",
   "metadata": {},
   "source": [
    "### 3. From an Existing map - Flip Step"
   ]
  },
  {
   "cell_type": "markdown",
   "id": "b3156410-de0b-470a-8953-d1921e743d5f",
   "metadata": {},
   "source": [
    "Let's try a random-based strategy which takes a precinct on the border of the two districts and flip it to the other district.\n",
    "Let's do this 10 times starting from the current official assignment map."
   ]
  },
  {
   "cell_type": "code",
   "execution_count": 20,
   "id": "92cd10f0-5938-406c-813d-96cfb1c27af6",
   "metadata": {},
   "outputs": [
    {
     "name": "stdout",
     "output_type": "stream",
     "text": [
      "True\n",
      "True\n"
     ]
    }
   ],
   "source": [
    "nh_flipstep_assignment = nh_current_assignment.copy()\n",
    "\n",
    "## Let's do a simplistic approach. \n",
    "## First we randomly select 5 D1 precincts that border D2 and assign them to D2\n",
    "\n",
    "D1_border_precincts = []\n",
    "\n",
    "D1_list = nh_latitude_assignment[nh_latitude_assignment['District']==1]['GEOID20']\n",
    "for precinct in D1_list:\n",
    "    neighbors = ast.literal_eval(nh_contiguity[nh_contiguity['Precinct']==precinct]['Neighbors'].values.tolist()[0])\n",
    "    for neighbor in neighbors:\n",
    "        if nh_flipstep_assignment.loc[nh_flipstep_assignment['GEOID20']==neighbor,'District'].values.tolist()[0]==2:\n",
    "            #if one of the neighbor is in D2, then this is a border district\n",
    "            D1_border_precincts.append(precinct)\n",
    "            break\n",
    "#Sample 5 and flip them UNLESS it breaks contiguity\n",
    "flipped_precincts = np.random.choice(D1_border_precincts,5)\n",
    "for flip in flipped_precincts:\n",
    "    nh_flipstep_assignment.loc[nh_flipstep_assignment['GEOID20']==flip,'District']=2\n",
    "    #check if we broke contiguity and revert the flip if we did\n",
    "    if(isDistrictContiguous(1,nh_flipstep_assignment,nh_contiguity) is False or isDistrictContiguous(2,nh_flipstep_assignment,nh_contiguity) is False):\n",
    "        nh_flipstep_assignment.loc[nh_flipstep_assignment['GEOID20']==flip,'District']=1\n",
    "        print(\"Contiguity broken \" + flip)\n",
    "                                                                        \n",
    "\n",
    "## First we randomly select 5 DIFFERENT D2 precincts that border D1 and assign them to D1\n",
    "\n",
    "D2_border_precincts = []\n",
    "D2_list = nh_latitude_assignment[nh_latitude_assignment['District']==2]['GEOID20']\n",
    "for precinct in D2_list:\n",
    "    neighbors = ast.literal_eval(nh_contiguity[nh_contiguity['Precinct']==precinct]['Neighbors'].values.tolist()[0])\n",
    "    for neighbor in neighbors:\n",
    "        if nh_flipstep_assignment.loc[nh_flipstep_assignment['GEOID20']==neighbor,'District'].values.tolist()[0]==1 and precinct not in flipped_precincts:\n",
    "            #if one of the neighbor is in D2, then this is a border district. We do not want to re-flip a district we just flipped\n",
    "            D2_border_precincts.append(precinct)\n",
    "            break\n",
    "#Sample 5 and flip them UNLESS it breaks contiguity\n",
    "flipped_precincts = np.random.choice(D2_border_precincts,5)\n",
    "for flip in flipped_precincts:\n",
    "    nh_flipstep_assignment.loc[nh_flipstep_assignment['GEOID20']==flip,'District']=1\n",
    "    #check if we broke contiguity and revert the flip if we did\n",
    "    if(isDistrictContiguous(1,nh_flipstep_assignment,nh_contiguity) is False or isDistrictContiguous(2,nh_flipstep_assignment,nh_contiguity) is False):\n",
    "        nh_flipstep_assignment.loc[nh_flipstep_assignment['GEOID20']==flip,'District']=2\n",
    "        print(\"Contiguity broken \" + flip)\n",
    "                                                        \n",
    "    \n",
    "\n",
    "\n",
    "    \n",
    "\n",
    "print(isDistrictContiguous(1,nh_flipstep_assignment,nh_contiguity))\n",
    "print(isDistrictContiguous(2,nh_flipstep_assignment,nh_contiguity))\n",
    "\n",
    "nh_flipstep_assignment.to_csv('Recitation maps/nh_flipstep_assignment.csv',index=False)\n"
   ]
  },
  {
   "cell_type": "markdown",
   "id": "bdaf6446-5043-4c30-abf5-7381829f7bfc",
   "metadata": {},
   "source": [
    "# Compactness\n",
    "You will also need some function to measure compactness. Here are some examples. You can write your own."
   ]
  },
  {
   "cell_type": "code",
   "execution_count": 21,
   "id": "b513250e-086e-4ece-bf7c-e01ce7a70afb",
   "metadata": {},
   "outputs": [],
   "source": [
    "def pp_compactness(geom): # Polsby-Popper\n",
    "    p = geom.length\n",
    "    a = geom.area    \n",
    "    return (4*np.pi*a)/(p*p)\n",
    "\n",
    "def box_reock_compactness(geom): # Reock on a rectangle bounding box\n",
    "    a = geom.area \n",
    "    bb = geom.bounds # bounds gives you the minimum bounding box (rectangle)\n",
    "    bba = abs(bb[0]-bb[2])*abs(bb[1]-bb[3])\n",
    "    return a/bba"
   ]
  },
  {
   "cell_type": "markdown",
   "id": "13a1ff00-a8bd-4b10-992a-25eb2def75b1",
   "metadata": {},
   "source": [
    "We can compute the compactness of individual precincts. Here Barrington."
   ]
  },
  {
   "cell_type": "code",
   "execution_count": 22,
   "id": "eb897e10-e04e-4d15-9375-5687bf29362b",
   "metadata": {},
   "outputs": [
    {
     "data": {
      "text/plain": [
       "0.7355450891030221"
      ]
     },
     "execution_count": 22,
     "metadata": {},
     "output_type": "execute_result"
    }
   ],
   "source": [
    "pp_compactness(Polygon(shape(nh_precinct_boundaries['33003SAND01'])))"
   ]
  },
  {
   "cell_type": "code",
   "execution_count": 23,
   "id": "76d786e6-2dc2-4b7b-a77f-8987c3a3f568",
   "metadata": {},
   "outputs": [
    {
     "data": {
      "text/plain": [
       "0.7659047799588359"
      ]
     },
     "execution_count": 23,
     "metadata": {},
     "output_type": "execute_result"
    }
   ],
   "source": [
    "box_reock_compactness(Polygon(shape(nh_precinct_boundaries['33003SAND01'])))"
   ]
  },
  {
   "cell_type": "markdown",
   "id": "33f32691-6d9b-464d-9f4c-dc5dcc696d4f",
   "metadata": {},
   "source": [
    "To calculate the compactness of a District we need to create a shape (Multipolygon) that encloses all precincts in the District."
   ]
  },
  {
   "cell_type": "code",
   "execution_count": 24,
   "id": "fef08fc4-3165-4b82-b6fa-53b6ead4837e",
   "metadata": {},
   "outputs": [],
   "source": [
    "def getDistrictShape(district_id, assignment, boundaries):\n",
    "    list_precincts = assignment[assignment['District']==district_id]['GEOID20']\n",
    "    precinct_shapes = []\n",
    "    for i in list_precincts:\n",
    "        if shape(boundaries[i]).type == 'Polygon':\n",
    "            precinct_shapes.append(Polygon(shape(boundaries[i])))\n",
    "        elif shape(boundaries[i]).type == 'MultiPolygon':\n",
    "            precinct_shapes.append(MultiPolygon(shape(boundaries[i])))      \n",
    "    district_shape = shapely.ops.unary_union(precinct_shapes)\n",
    "    #print(district_shape)\n",
    "    return district_shape"
   ]
  },
  {
   "cell_type": "code",
   "execution_count": 25,
   "id": "4fd71738-063f-46d3-8487-66fcce258bca",
   "metadata": {},
   "outputs": [
    {
     "name": "stderr",
     "output_type": "stream",
     "text": [
      "C:\\Users\\aqila\\AppData\\Local\\Temp\\ipykernel_25040\\1799164020.py:5: ShapelyDeprecationWarning: The 'type' attribute is deprecated, and will be removed in the future. You can use the 'geom_type' attribute instead.\n",
      "  if shape(boundaries[i]).type == 'Polygon':\n",
      "C:\\Users\\aqila\\AppData\\Local\\Temp\\ipykernel_25040\\1799164020.py:7: ShapelyDeprecationWarning: The 'type' attribute is deprecated, and will be removed in the future. You can use the 'geom_type' attribute instead.\n",
      "  elif shape(boundaries[i]).type == 'MultiPolygon':\n"
     ]
    },
    {
     "name": "stdout",
     "output_type": "stream",
     "text": [
      "D1 PP : 0.15736680449376755\n",
      "D2 PP : 0.1611788014770682\n",
      "D1 BR : 0.40498466201808614\n",
      "D2 BR : 0.5001364251611837\n"
     ]
    }
   ],
   "source": [
    "#Compactness of the current assignment\n",
    "print(\"D1 PP : \"+str(pp_compactness(getDistrictShape(1,nh_current_assignment,nh_precinct_boundaries))))\n",
    "print(\"D2 PP : \"+str(pp_compactness(getDistrictShape(2,nh_current_assignment,nh_precinct_boundaries))))\n",
    "print(\"D1 BR : \"+str(box_reock_compactness(getDistrictShape(1,nh_current_assignment,nh_precinct_boundaries))))\n",
    "print(\"D2 BR : \"+str(box_reock_compactness(getDistrictShape(2,nh_current_assignment,nh_precinct_boundaries))))"
   ]
  },
  {
   "cell_type": "code",
   "execution_count": 26,
   "id": "f3c8f777-fc93-46c2-9eac-c1bee80aa35e",
   "metadata": {},
   "outputs": [
    {
     "name": "stderr",
     "output_type": "stream",
     "text": [
      "C:\\Users\\aqila\\AppData\\Local\\Temp\\ipykernel_25040\\1799164020.py:5: ShapelyDeprecationWarning: The 'type' attribute is deprecated, and will be removed in the future. You can use the 'geom_type' attribute instead.\n",
      "  if shape(boundaries[i]).type == 'Polygon':\n",
      "C:\\Users\\aqila\\AppData\\Local\\Temp\\ipykernel_25040\\1799164020.py:7: ShapelyDeprecationWarning: The 'type' attribute is deprecated, and will be removed in the future. You can use the 'geom_type' attribute instead.\n",
      "  elif shape(boundaries[i]).type == 'MultiPolygon':\n"
     ]
    },
    {
     "name": "stdout",
     "output_type": "stream",
     "text": [
      "D1 PP : 0.4121675339026806\n",
      "D2 PP : 0.17112185251178041\n",
      "D1 BR : 0.6639907794050814\n",
      "D2 BR : 0.36741448194372267\n"
     ]
    }
   ],
   "source": [
    "#Compactness of the floodfill assignment\n",
    "print(\"D1 PP : \"+str(pp_compactness(getDistrictShape(1,nh_floodfill_assignment,nh_precinct_boundaries))))\n",
    "print(\"D2 PP : \"+str(pp_compactness(getDistrictShape(2,nh_floodfill_assignment,nh_precinct_boundaries))))\n",
    "print(\"D1 BR : \"+str(box_reock_compactness(getDistrictShape(1,nh_floodfill_assignment,nh_precinct_boundaries))))\n",
    "print(\"D2 BR : \"+str(box_reock_compactness(getDistrictShape(2,nh_floodfill_assignment,nh_precinct_boundaries))))"
   ]
  },
  {
   "cell_type": "code",
   "execution_count": 27,
   "id": "021a95c4-14cb-4b68-8354-f8ae9470c56f",
   "metadata": {},
   "outputs": [
    {
     "name": "stdout",
     "output_type": "stream",
     "text": [
      "D1 PP : 0.21815248690706457\n"
     ]
    },
    {
     "name": "stderr",
     "output_type": "stream",
     "text": [
      "C:\\Users\\aqila\\AppData\\Local\\Temp\\ipykernel_25040\\1799164020.py:5: ShapelyDeprecationWarning: The 'type' attribute is deprecated, and will be removed in the future. You can use the 'geom_type' attribute instead.\n",
      "  if shape(boundaries[i]).type == 'Polygon':\n",
      "C:\\Users\\aqila\\AppData\\Local\\Temp\\ipykernel_25040\\1799164020.py:7: ShapelyDeprecationWarning: The 'type' attribute is deprecated, and will be removed in the future. You can use the 'geom_type' attribute instead.\n",
      "  elif shape(boundaries[i]).type == 'MultiPolygon':\n"
     ]
    },
    {
     "name": "stdout",
     "output_type": "stream",
     "text": [
      "D2 PP : 0.2737333706588367\n",
      "D1 BR : 0.6832747649293301\n",
      "D2 BR : 0.5113509082709781\n"
     ]
    }
   ],
   "source": [
    "#Compactness of the 43 Latitude assignment\n",
    "print(\"D1 PP : \"+str(pp_compactness(getDistrictShape(1,nh_latitude43_assignment,nh_precinct_boundaries))))\n",
    "print(\"D2 PP : \"+str(pp_compactness(getDistrictShape(2,nh_latitude43_assignment,nh_precinct_boundaries))))\n",
    "print(\"D1 BR : \"+str(box_reock_compactness(getDistrictShape(1,nh_latitude43_assignment,nh_precinct_boundaries))))\n",
    "print(\"D2 BR : \"+str(box_reock_compactness(getDistrictShape(2,nh_latitude43_assignment,nh_precinct_boundaries))))"
   ]
  },
  {
   "cell_type": "markdown",
   "id": "0e762428-627e-431b-9178-e25c0c50f340",
   "metadata": {},
   "source": [
    "### This should give you the information you need to start creating your own maps.\n",
    "NJ_Redistricing_StartingPoint.ipnyb has an example map for NJ. \n",
    "I suggest you test your algorithms on NH first as running times will be slower on a small map. You can of course change the number of districts in your test code you test different approaches. "
   ]
  },
  {
   "cell_type": "code",
   "execution_count": null,
   "id": "c8deec74-ffb2-439f-8c40-20ec7f42ac3d",
   "metadata": {},
   "outputs": [],
   "source": []
  }
 ],
 "metadata": {
  "kernelspec": {
   "display_name": "Python 3 (ipykernel)",
   "language": "python",
   "name": "python3"
  },
  "language_info": {
   "codemirror_mode": {
    "name": "ipython",
    "version": 3
   },
   "file_extension": ".py",
   "mimetype": "text/x-python",
   "name": "python",
   "nbconvert_exporter": "python",
   "pygments_lexer": "ipython3",
   "version": "3.11.2"
  }
 },
 "nbformat": 4,
 "nbformat_minor": 5
}
