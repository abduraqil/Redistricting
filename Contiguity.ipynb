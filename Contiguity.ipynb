{
 "cells": [
  {
   "cell_type": "markdown",
   "id": "thorough-astrology",
   "metadata": {},
   "source": [
    "-----\n",
    "This Notebook provides some sample code to create a list of contiguous districts\n",
    "-----\n",
    "-----"
   ]
  },
  {
   "cell_type": "code",
   "execution_count": null,
   "id": "dedicated-force",
   "metadata": {},
   "outputs": [],
   "source": [
    "!pip install geojson\n",
    "!pip install shapely\n",
    "!pip install PyShp"
   ]
  },
  {
   "cell_type": "code",
   "execution_count": 1,
   "id": "hourly-company",
   "metadata": {},
   "outputs": [],
   "source": [
    "import geojson\n",
    "import pandas as pd\n",
    "import numpy as np\n",
    "import time\n",
    "import csv\n",
    "import pickle"
   ]
  },
  {
   "cell_type": "code",
   "execution_count": 2,
   "id": "a26deeb2-1308-4253-b531-9fc77c1bd6e6",
   "metadata": {},
   "outputs": [],
   "source": [
    "#Setting the state (NH or NJ)\n",
    "#state = 'nh'\n",
    "state = 'nj'"
   ]
  },
  {
   "cell_type": "markdown",
   "id": "headed-venezuela",
   "metadata": {
    "tags": []
   },
   "source": [
    "### Checking Precinct Assignment for my map"
   ]
  },
  {
   "cell_type": "code",
   "execution_count": 3,
   "id": "received-minutes",
   "metadata": {
    "tags": []
   },
   "outputs": [],
   "source": [
    "#assignment will contain the precinct-district assignments from my map\n",
    "assignment = pd.read_csv('Map_Data/precinct-assignments-congress-'+state+'.csv')\n",
    "precinct_list=[]\n",
    "for p in range(0,len(assignment)):\n",
    "    precinct_list.append(assignment.iloc[p].GEOID20)\n",
    "len(precinct_list)\n",
    "#print(precinct_list)"
   ]
  },
  {
   "cell_type": "markdown",
   "id": "simple-insertion",
   "metadata": {},
   "source": [
    "------\n",
    "Checking the geography of the map\n",
    "------\n",
    "------"
   ]
  },
  {
   "cell_type": "markdown",
   "id": "helpful-scheme",
   "metadata": {},
   "source": [
    "### Are two precincts contiguous?"
   ]
  },
  {
   "cell_type": "code",
   "execution_count": 4,
   "id": "potential-importance",
   "metadata": {},
   "outputs": [],
   "source": [
    "import shapefile as shp\n",
    "from shapely.geometry import Polygon,shape,MultiPolygon\n",
    "\n",
    "\n",
    "shpfile = 'Map_Data/'+state+'_vtd_2020_bound/'+state+'_vtd_2020_bound.shp'\n",
    "dbffile = 'Map_Data/'+state+'_vtd_2020_bound/'+state+'_vtd_2020_bound.dbf'\n",
    "shxfile = 'Map_Data/'+state+'_vtd_2020_bound/'+state+'_vtd_2020_bound.shx'\n",
    "shpfile = shp.Reader(shp=shpfile, shx=shxfile, dbf=dbffile)\n",
    "print(shpfile)"
   ]
  },
  {
   "cell_type": "code",
   "execution_count": 5,
   "id": "environmental-binary",
   "metadata": {},
   "outputs": [],
   "source": [
    "field_names = []\n",
    "print(shpfile.fields[1:])\n",
    "for f in shpfile.fields[1:]:\n",
    "    field_names.append((f[0]))\n",
    "print(field_names)\n",
    "\n",
    "precinct_boundaries={}\n",
    "count=0\n",
    "for sr in shpfile.iterShapeRecords():\n",
    "    geom = sr.shape # get geo bit\n",
    "    rec = sr.record # get db fields\n",
    "    precinct_boundaries[rec[3]]=geom\n",
    "    count=count+1\n",
    "    \n",
    "##print the coordinates of a precinct polygon\n",
    "if state=='nj':\n",
    "    print(Polygon(shape(precinct_boundaries['34003060003'])))\n",
    "if state=='nh':\n",
    "    print(Polygon(shape(precinct_boundaries['33007SARG01'])))\n"
   ]
  },
  {
   "cell_type": "code",
   "execution_count": 6,
   "id": "sharp-lincoln",
   "metadata": {},
   "outputs": [],
   "source": [
    "###Examples\n",
    "if state == 'nj':\n",
    "    a = Polygon(shape(precinct_boundaries['34003060003']))\n",
    "    b = Polygon(shape(precinct_boundaries['34007043046']))\n",
    "    c = Polygon(shape(precinct_boundaries['34007043047']))\n",
    "\n",
    "if state == 'nh':\n",
    "    a = Polygon(shape(precinct_boundaries['33007RAND01']))\n",
    "    b = Polygon(shape(precinct_boundaries['33007JEFF01']))\n",
    "    c = Polygon(shape(precinct_boundaries['33007CARR01']))\n",
    "\n",
    "    \n",
    "\n",
    "#print(shape(precinct_boundaries['34029102002']))\n",
    "                  \n",
    "#b = Polygon(precint_boundaries['34007043046'])\n",
    "print(a.touches(b))\n",
    "print(c.touches(b))\n",
    "print(c.touches(a))"
   ]
  },
  {
   "cell_type": "markdown",
   "id": "turkish-carter",
   "metadata": {},
   "source": [
    "#### Function to check if two precinct overlap (needs precinct_boundaries to be instanciated)"
   ]
  },
  {
   "cell_type": "code",
   "execution_count": 7,
   "id": "occupational-uganda",
   "metadata": {},
   "outputs": [],
   "source": [
    "def is_contiguous_precinct(p1,p2,precinct_boundaries):\n",
    "    #print(shape(precinct_boundaries[p1]).type)\n",
    "    try:\n",
    "        if shape(precinct_boundaries[p1]).type == 'Polygon':\n",
    "            a = Polygon(shape(precinct_boundaries[p1]))\n",
    "        elif shape(precinct_boundaries[p1]).type == 'MultiPolygon':\n",
    "            a = MultiPolygon(shape(precinct_boundaries[p1]))\n",
    "        else:\n",
    "            return False\n",
    "        if shape(precinct_boundaries[p2]).type == 'Polygon':\n",
    "            b = Polygon(shape(precinct_boundaries[p2]))\n",
    "        elif shape(precinct_boundaries[p2]).type == 'MultiPolygon':\n",
    "            b = MultiPolygon(shape(precinct_boundaries[p2]))\n",
    "        else:\n",
    "            return False\n",
    "        return(a.touches(b))\n",
    "    except KeyError: return False"
   ]
  },
  {
   "cell_type": "code",
   "execution_count": 8,
   "id": "comparable-faith",
   "metadata": {},
   "outputs": [],
   "source": [
    "if state == 'nj':\n",
    "    print(is_contiguous_precinct('34003060003','34007043046',precinct_boundaries))\n",
    "    print(is_contiguous_precinct('34007043047','34007043046',precinct_boundaries))\n",
    "    print(is_contiguous_precinct('34003060003','34003060002',precinct_boundaries))\n",
    "    print(is_contiguous_precinct('34007043047','34003060003',precinct_boundaries))\n",
    "if state == 'nh':\n",
    "    print(is_contiguous_precinct('33007CARR01','33007JEFF01',precinct_boundaries))\n",
    "    print(is_contiguous_precinct('33007CARR01','33007RAND01',precinct_boundaries))\n",
    "\n"
   ]
  },
  {
   "cell_type": "markdown",
   "id": "promising-bullet",
   "metadata": {},
   "source": [
    "#### Function to find contiguous districts (needs precinct_boundaries to be instanciated)"
   ]
  },
  {
   "cell_type": "code",
   "execution_count": 9,
   "id": "fiscal-pillow",
   "metadata": {},
   "outputs": [],
   "source": [
    "## This code will tell you how many precinct are contiguous to a given precinct\n",
    "def contiguous_precincts(p1,precinct_list,precinct_boundaries):\n",
    "    count=0\n",
    "    neighbors=[]\n",
    "    for p in range(0,len(precinct_list)):\n",
    "        #print(pre_data.iloc[p].GEOID20)\n",
    "        if(is_contiguous_precinct(p1,precinct_list[p],precinct_boundaries)):\n",
    "            count+=1\n",
    "            neighbors.append(precinct_list[p])\n",
    "    return([count,neighbors])\n"
   ]
  },
  {
   "cell_type": "code",
   "execution_count": 10,
   "id": "pregnant-reunion",
   "metadata": {},
   "outputs": [],
   "source": [
    "if state=='nh':\n",
    "    print(contiguous_precincts('33007CARR01',precinct_list,precinct_boundaries))\n",
    "if state=='nj':\n",
    "    print(contiguous_precincts('34041080003',precinct_list,precinct_boundaries))"
   ]
  },
  {
   "cell_type": "code",
   "execution_count": 11,
   "id": "premium-treat",
   "metadata": {},
   "outputs": [],
   "source": [
    "## NOTE: on my laptop, the code takes 33sec for NH, for NJ it takes 1h50m\n",
    "tic = time.perf_counter()\n",
    "    \n",
    "contiguous={}\n",
    "for p in range(0,len(precinct_list)):\n",
    "    contiguous[precinct_list[p]]=[]\n",
    "\n",
    "##Code is using pickling to be able to restart in case of crash. Needs to create a pickle directory first\n",
    "## in case restart is needed, update the range of values for i\n",
    "    \n",
    "for i in range(0,len(precinct_list)):\n",
    "    neighbors = contiguous_precincts(precinct_list[i],precinct_list[i+1:len(precinct_list)],precinct_boundaries)[1]\n",
    "    #print(neighbors)\n",
    "    contiguous[precinct_list[i]].extend(neighbors)\n",
    "    for n in range(0,len(neighbors)):\n",
    "        contiguous[neighbors[n]].append(precinct_list[i])\n",
    "    if (i%100)==0:\n",
    "        #save temp data in case it crashed\n",
    "        picklename = \"pickle/\"+state+\"_runAt\"+str(i)+\".p\"\n",
    "        with open(picklename, 'wb') as f:\n",
    "            pickle.dump(contiguous, f) \n",
    "        toc = time.perf_counter()\n",
    "        print(f\"Pickle at \" +str(i) + f\",Took {toc - tic:0.4f} seconds\") \n",
    "    \n",
    "        \n",
    "#save final data \n",
    "picklename = \"pickle/\"+state+\"_FinalRun.p\"\n",
    "pickle.dump(contiguous, open(picklename, \"wb\")) \n",
    "toc = time.perf_counter()\n",
    "print(f\"Final Pickle at \" +str(i) + f\",Took {toc - tic:0.4f} seconds\") \n",
    "        \n",
    "with open('Contiguity_'+state+'.csv', 'w') as csvfile:\n",
    "    writer = csv.writer(csvfile)\n",
    "    for key, value in contiguous.items():\n",
    "       writer.writerow([key, value])\n",
    "toc = time.perf_counter()\n",
    "\n",
    "print(f\"Took {toc - tic:0.4f} seconds\")  "
   ]
  },
  {
   "cell_type": "markdown",
   "id": "organized-advance",
   "metadata": {},
   "source": [
    "-----\n",
    "Make sample maps to test the contiguity mappings\n",
    "-----\n"
   ]
  },
  {
   "cell_type": "code",
   "execution_count": 12,
   "id": "corrected-signature",
   "metadata": {},
   "outputs": [],
   "source": [
    "picklename = \"pickle/\"+state+\"_FinalRun.p\"\n",
    "contiguous_precincts= pickle.load(open(picklename,\"rb\"))"
   ]
  },
  {
   "cell_type": "code",
   "execution_count": 13,
   "id": "appreciated-disabled",
   "metadata": {},
   "outputs": [],
   "source": [
    "if state=='nj':\n",
    "    print(contiguous_precincts['34041080003'])\n",
    "if state=='nh':\n",
    "    print(contiguous_precincts['33007JEFF01'])"
   ]
  },
  {
   "cell_type": "code",
   "execution_count": 14,
   "id": "included-longitude",
   "metadata": {},
   "outputs": [],
   "source": [
    "clear_map=pd.DataFrame(precinct_list)\n",
    "clear_map[1]=np.repeat(1,len(precinct_list))"
   ]
  },
  {
   "cell_type": "code",
   "execution_count": 15,
   "id": "metropolitan-broadcasting",
   "metadata": {},
   "outputs": [],
   "source": [
    "#create a random map by selecting n precincts and coloring their neighbors\n",
    "import random\n",
    "\n",
    "n=5\n",
    "\n",
    "new_map=pd.DataFrame(precinct_list)\n",
    "new_map[1]=np.repeat(1,len(precinct_list))\n",
    "new_map.columns=['A','B']\n",
    "index=2\n",
    "sample = random.sample(precinct_list,n)\n",
    "for s in range(0,len(sample)):\n",
    "    print(sample[s])\n",
    "    neighbors = contiguous_precincts[sample[s]]\n",
    "    #print(new_map.loc[new_map['A'] == sample[s],])\n",
    "    new_map.loc[new_map['A'] == sample[s],'B']=index\n",
    "    for n in range(0,len(neighbors)):\n",
    "        new_map.loc[new_map['A'] == neighbors[n],'B']=index+1\n",
    "    index=index+2\n",
    "new_map.to_csv(\"pickle/testmap1.csv\",index=False)\n",
    "                                         \n",
    "        "
   ]
  },
  {
   "cell_type": "code",
   "execution_count": null,
   "id": "frequent-madagascar",
   "metadata": {},
   "outputs": [],
   "source": []
  }
 ],
 "metadata": {
  "kernelspec": {
   "display_name": "Python 3 (ipykernel)",
   "language": "python",
   "name": "python3"
  },
  "language_info": {
   "codemirror_mode": {
    "name": "ipython",
    "version": 3
   },
   "file_extension": ".py",
   "mimetype": "text/x-python",
   "name": "python",
   "nbconvert_exporter": "python",
   "pygments_lexer": "ipython3",
   "version": "3.9.13"
  }
 },
 "nbformat": 4,
 "nbformat_minor": 5
}
